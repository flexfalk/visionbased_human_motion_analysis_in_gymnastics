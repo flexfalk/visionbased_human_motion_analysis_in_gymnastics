{
 "cells": [
  {
   "cell_type": "code",
   "execution_count": 5,
   "metadata": {
    "collapsed": true
   },
   "outputs": [
    {
     "data": {
      "text/plain": "torch.Tensor"
     },
     "execution_count": 5,
     "metadata": {},
     "output_type": "execute_result"
    }
   ],
   "source": [
    "import pandas as pd\n",
    "import torch\n",
    "# train = pd.read_csv(r'C:\\Users\\sofu0\\OneDrive - ITU\\Bachelor\\all_skeleton\\skeleton_csv_from_json_v2.csv')\n",
    "path = r\"C:\\Users\\sofu0\\OneDrive - ITU\\Bachelor\\kfold\\fold0\\sub_folder0\"\n",
    "train = pd.read_csv(path + \"\\\\train.csv\")\n",
    "# train = pd.read_csv(r'C:\\Users\\sofu0\\OneDrive - ITU\\Bachelor\\all_skeleton\\all_skeleton_preprocessed_v2.csv')\n",
    "\n",
    "train.finals = pd.factorize(train.finals)[0]\n",
    "train_labels = train['finals'].values\n",
    "train = train.drop([\"clipname\", \"videoname\",\"finals\"],axis=1).values.reshape(len(train), 1, 2, 33)\n",
    "\n",
    "\n",
    "\n",
    "datalist = train\n",
    "labels = train_labels\n",
    "train = torch.Tensor(train)\n",
    "\n"
   ]
  },
  {
   "cell_type": "code",
   "execution_count": 8,
   "outputs": [],
   "source": [
    "from torch import nn, optim\n",
    "import torch.nn.functional as F\n",
    "import torch.utils.data as data\n",
    "import torch\n",
    "import pandas as pd\n",
    "from torch.utils.data.sampler import SubsetRandomSampler\n",
    "import numpy as np\n",
    "\n",
    "class SkeletonData(data.Dataset):\n",
    "    def __init__(self):\n",
    "\n",
    "        path = r\"C:\\Users\\sofu0\\OneDrive - ITU\\Bachelor\\kfold\\fold0\\sub_folder0\"\n",
    "        train = pd.read_csv(path + \"\\\\train.csv\")\n",
    "        # train = pd.read_csv(r'C:\\Users\\sofu0\\OneDrive - ITU\\Bachelor\\all_skeleton\\all_skeleton_preprocessed_v2.csv')\n",
    "\n",
    "        train.finals = pd.factorize(train.finals)[0]\n",
    "        train_labels = train['finals'].values\n",
    "\n",
    "        train = train.drop([\"clipname\", \"videoname\",\"finals\"],axis=1).values.reshape(len(train), 1, 2, 33)\n",
    "\n",
    "\n",
    "        self.datalist = train\n",
    "        self.labels = train_labels\n",
    "    def __getitem__(self, index):\n",
    "        return torch.Tensor(self.datalist[index].astype(float)), self.labels[index]\n",
    "    def __len__(self):\n",
    "        return self.datalist.shape[0]"
   ],
   "metadata": {
    "collapsed": false,
    "pycharm": {
     "name": "#%%\n"
    }
   }
  },
  {
   "cell_type": "code",
   "execution_count": null,
   "outputs": [],
   "source": [],
   "metadata": {
    "collapsed": false,
    "pycharm": {
     "name": "#%%\n"
    }
   }
  },
  {
   "cell_type": "code",
   "execution_count": 9,
   "outputs": [],
   "source": [
    "dataset = SkeletonData()\n",
    "batch_size = 64\n",
    "validation_split = .2\n",
    "shuffle_dataset = True\n",
    "random_seed= 42\n",
    "\n",
    "# Creating data indices for training and validation splits:\n",
    "dataset_size = len(dataset)\n",
    "indices = list(range(dataset_size))\n",
    "split = int(np.floor(validation_split * dataset_size))\n",
    "if shuffle_dataset :\n",
    "    np.random.seed(random_seed)\n",
    "    np.random.shuffle(indices)\n",
    "train_indices, val_indices = indices[split:], indices[:split]\n",
    "\n",
    "# Creating PT data samplers and loaders:\n",
    "train_sampler = SubsetRandomSampler(train_indices)\n",
    "valid_sampler = SubsetRandomSampler(val_indices)\n",
    "\n",
    "train_loader = torch.utils.data.DataLoader(dataset, batch_size=batch_size,\n",
    "                                           sampler=False)\n",
    "# validation_loader = torch.utils.data.DataLoader(dataset, batch_size=batch_size,\n",
    "#                                                 sampler=valid_sampler)"
   ],
   "metadata": {
    "collapsed": false,
    "pycharm": {
     "name": "#%%\n"
    }
   }
  },
  {
   "cell_type": "code",
   "execution_count": 13,
   "outputs": [
    {
     "data": {
      "text/plain": "36540"
     },
     "execution_count": 13,
     "metadata": {},
     "output_type": "execute_result"
    }
   ],
   "source": [
    "len(train_loader.dataset)"
   ],
   "metadata": {
    "collapsed": false,
    "pycharm": {
     "name": "#%%\n"
    }
   }
  },
  {
   "cell_type": "code",
   "execution_count": 14,
   "outputs": [
    {
     "data": {
      "text/plain": "36540"
     },
     "execution_count": 14,
     "metadata": {},
     "output_type": "execute_result"
    }
   ],
   "source": [
    "path = r\"C:\\Users\\sofu0\\OneDrive - ITU\\Bachelor\\kfold\\fold0\\sub_folder0\"\n",
    "train = pd.read_csv(path + \"\\\\train.csv\")\n",
    "\n",
    "len(train)"
   ],
   "metadata": {
    "collapsed": false,
    "pycharm": {
     "name": "#%%\n"
    }
   }
  }
 ],
 "metadata": {
  "kernelspec": {
   "display_name": "Python 3",
   "language": "python",
   "name": "python3"
  },
  "language_info": {
   "codemirror_mode": {
    "name": "ipython",
    "version": 2
   },
   "file_extension": ".py",
   "mimetype": "text/x-python",
   "name": "python",
   "nbconvert_exporter": "python",
   "pygments_lexer": "ipython2",
   "version": "2.7.6"
  }
 },
 "nbformat": 4,
 "nbformat_minor": 0
}