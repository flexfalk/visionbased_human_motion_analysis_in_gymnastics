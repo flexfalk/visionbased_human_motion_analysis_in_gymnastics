{
 "cells": [
  {
   "cell_type": "markdown",
   "source": [
    "<h2> CNN w. dataloader"
   ],
   "metadata": {
    "collapsed": false,
    "pycharm": {
     "name": "#%% md\n"
    }
   }
  },
  {
   "cell_type": "code",
   "source": [
    "from torch import nn, optim\n",
    "import torch.nn.functional as F\n",
    "import torch.utils.data as data\n",
    "import torch\n",
    "import pandas as pd\n",
    "from torch.utils.data.sampler import SubsetRandomSampler\n",
    "import numpy as np\n",
    "\n",
    "class SkeletonData(data.Dataset):\n",
    "    def __init__(self):\n",
    "\n",
    "        train = pd.read_csv(r\"C:\\Users\\sofu0\\OneDrive - ITU\\Bachelor\\kfold\\fold0\\sub_folder0\\train.csv\")\n",
    "\n",
    "        train[\"finals\"][train[\"finals\"]==\"idle\"] = 0\n",
    "        train[\"finals\"][train[\"finals\"]==\"take-off\"] = 1\n",
    "        train[\"finals\"][train[\"finals\"]==\"skill\"] = 2\n",
    "        train[\"finals\"][train[\"finals\"]==\"landing\"] = 3\n",
    "\n",
    "        print(train[\"finals\"])\n",
    "\n",
    "        train_labels = train['finals'].values\n",
    "\n",
    "        train = train.drop([\"clipname\", \"videoname\",\"finals\"],axis=1).values.reshape(len(train), 1, 2, 33)\n",
    "\n",
    "\n",
    "        self.datalist = train\n",
    "        self.labels = train_labels\n",
    "    def __getitem__(self, index):\n",
    "        return torch.Tensor(self.datalist[index].astype(float)), self.labels[index]\n",
    "    def __len__(self):\n",
    "        return self.datalist.shape[0]\n",
    "\n",
    "# train_Set = SkeletonData()\n",
    "# trainloader = torch.utils.data.DataLoader( dataset = train_Set , batch_size= 64 , shuffle = True)\n",
    "\n",
    "\n",
    "dataset = SkeletonData()\n",
    "batch_size = 64\n",
    "validation_split = .2\n",
    "shuffle_dataset = False\n",
    "random_seed= 42\n",
    "\n",
    "# Creating data indices for training and validation splits:\n",
    "dataset_size = len(dataset)\n",
    "indices = list(range(dataset_size))\n",
    "split = int(np.floor(validation_split * dataset_size))\n",
    "if shuffle_dataset :\n",
    "    np.random.seed(random_seed)\n",
    "    np.random.shuffle(indices)\n",
    "train_indices, val_indices = indices[split:], indices[:split]\n",
    "\n",
    "# Creating PT data samplers and loaders:\n",
    "train_sampler = SubsetRandomSampler(train_indices)\n",
    "valid_sampler = SubsetRandomSampler(val_indices)\n",
    "\n",
    "train_loader = torch.utils.data.DataLoader(dataset, batch_size=batch_size,sampler=train_sampler)\n",
    "validation_loader = torch.utils.data.DataLoader(dataset, batch_size=batch_size,\n",
    "                                                sampler=valid_sampler)"
   ],
   "metadata": {
    "collapsed": false,
    "pycharm": {
     "name": "#%%\n"
    }
   },
   "execution_count": 19,
   "outputs": [
    {
     "name": "stdout",
     "output_type": "stream",
     "text": [
      "0        3\n",
      "1        3\n",
      "2        0\n",
      "3        3\n",
      "4        3\n",
      "        ..\n",
      "36535    3\n",
      "36536    1\n",
      "36537    1\n",
      "36538    3\n",
      "36539    1\n",
      "Name: finals, Length: 36540, dtype: object\n"
     ]
    },
    {
     "name": "stderr",
     "output_type": "stream",
     "text": [
      "C:\\Users\\sofu0\\AppData\\Local\\Temp\\ipykernel_12576\\1082258407.py:14: SettingWithCopyWarning: \n",
      "A value is trying to be set on a copy of a slice from a DataFrame\n",
      "\n",
      "See the caveats in the documentation: https://pandas.pydata.org/pandas-docs/stable/user_guide/indexing.html#returning-a-view-versus-a-copy\n",
      "  train[\"finals\"][train[\"finals\"]==\"idle\"] = 0\n",
      "C:\\Users\\sofu0\\AppData\\Local\\Temp\\ipykernel_12576\\1082258407.py:15: SettingWithCopyWarning: \n",
      "A value is trying to be set on a copy of a slice from a DataFrame\n",
      "\n",
      "See the caveats in the documentation: https://pandas.pydata.org/pandas-docs/stable/user_guide/indexing.html#returning-a-view-versus-a-copy\n",
      "  train[\"finals\"][train[\"finals\"]==\"take-off\"] = 1\n",
      "C:\\Users\\sofu0\\AppData\\Local\\Temp\\ipykernel_12576\\1082258407.py:16: SettingWithCopyWarning: \n",
      "A value is trying to be set on a copy of a slice from a DataFrame\n",
      "\n",
      "See the caveats in the documentation: https://pandas.pydata.org/pandas-docs/stable/user_guide/indexing.html#returning-a-view-versus-a-copy\n",
      "  train[\"finals\"][train[\"finals\"]==\"skill\"] = 2\n",
      "C:\\Users\\sofu0\\AppData\\Local\\Temp\\ipykernel_12576\\1082258407.py:17: SettingWithCopyWarning: \n",
      "A value is trying to be set on a copy of a slice from a DataFrame\n",
      "\n",
      "See the caveats in the documentation: https://pandas.pydata.org/pandas-docs/stable/user_guide/indexing.html#returning-a-view-versus-a-copy\n",
      "  train[\"finals\"][train[\"finals\"]==\"landing\"] = 3\n"
     ]
    }
   ]
  },
  {
   "cell_type": "code",
   "execution_count": null,
   "outputs": [],
   "source": [
    "print(\"hello \")"
   ],
   "metadata": {
    "collapsed": false,
    "pycharm": {
     "name": "#%%\n"
    }
   }
  },
  {
   "cell_type": "code",
   "execution_count": 3,
   "outputs": [],
   "source": [
    "\n",
    "from kfoldCNN.CNN import CNN"
   ],
   "metadata": {
    "collapsed": false,
    "pycharm": {
     "name": "#%%\n"
    }
   }
  },
  {
   "cell_type": "code",
   "execution_count": 4,
   "outputs": [
    {
     "name": "stdout",
     "output_type": "stream",
     "text": [
      "[1,   100] loss: 0.060\n",
      "[1,   200] loss: 0.047\n",
      "[1,   300] loss: 0.041\n",
      "[1,   400] loss: 0.040\n",
      "[2,   100] loss: 0.038\n",
      "[2,   200] loss: 0.036\n",
      "[2,   300] loss: 0.037\n",
      "[2,   400] loss: 0.037\n"
     ]
    }
   ],
   "source": [
    "model = CNN()\n",
    "criterion = nn.CrossEntropyLoss()\n",
    "# optimizer = optim.SGD(model.parameters(), lr=0.03, momentum=0.8)\n",
    "optimizer = optim.SGD(model.parameters(), lr=0.02919, momentum=0.845)\n",
    "# optimizer = optim.SGD(model.parameters(), lr=0.0005, momentum=0.8)\n",
    "\n",
    "from torch.autograd import Variable\n",
    "for epoch in range(2):\n",
    "    running_loss = 0.0\n",
    "    for i, (images, labels) in enumerate(train_loader):\n",
    "        # print(i)\n",
    "        images = Variable(images)\n",
    "        labels = Variable(labels)\n",
    "\n",
    "        optimizer.zero_grad()\n",
    "        # print(images.shape)\n",
    "        outputs = model(images)\n",
    "        # print(labels)\n",
    "\n",
    "        loss = criterion(outputs, labels)\n",
    "        loss.backward()\n",
    "        optimizer.step()\n",
    "\n",
    "        running_loss += loss.item()\n",
    "\n",
    "        if i % 100 == 99:    # print every 2000 mini-batches\n",
    "            print(f'[{epoch + 1}, {i + 1:5d}] loss: {running_loss / 2000:.3f}')\n",
    "            running_loss = 0.0"
   ],
   "metadata": {
    "collapsed": false,
    "pycharm": {
     "name": "#%%\n"
    }
   }
  },
  {
   "cell_type": "code",
   "execution_count": 7,
   "outputs": [
    {
     "name": "stdout",
     "output_type": "stream",
     "text": [
      "0.6947181171319102\n",
      "0.6364153424827623\n"
     ]
    }
   ],
   "source": [
    "preds, y = check_accuracy(validation_loader, model)\n",
    "\n",
    "from sklearn.metrics import f1_score, accuracy_score\n",
    "print(accuracy_score(y, preds))\n",
    "print(f1_score(y, preds, average='macro'))"
   ],
   "metadata": {
    "collapsed": false,
    "pycharm": {
     "name": "#%%\n"
    }
   }
  },
  {
   "cell_type": "code",
   "execution_count": 7,
   "outputs": [],
   "source": [
    "def check_accuracy(loader, model):\n",
    "    num_correct = 0\n",
    "    num_samples = 0\n",
    "    model.eval()\n",
    "\n",
    "    pred_list = []\n",
    "    y_list = []\n",
    "    for i,(x, y) in enumerate(loader):\n",
    "\n",
    "\n",
    "        scores = model(x)\n",
    "        _, predictions = scores.max(1)\n",
    "\n",
    "        # print(predictions)\n",
    "        # print(\"---\")\n",
    "        # num_correct += (predictions == y).sum()\n",
    "        # num_samples += predictions.size(0)\n",
    "\n",
    "        pred_list+=predictions.tolist()\n",
    "        y_list+=y.tolist()\n",
    "\n",
    "\n",
    "    return pred_list, y_list\n",
    "\n",
    "\n"
   ],
   "metadata": {
    "collapsed": false,
    "pycharm": {
     "name": "#%%\n"
    }
   }
  },
  {
   "cell_type": "markdown",
   "source": [
    "<h2> Save Model"
   ],
   "metadata": {
    "collapsed": false,
    "pycharm": {
     "name": "#%% md\n"
    }
   }
  },
  {
   "cell_type": "code",
   "execution_count": 8,
   "outputs": [
    {
     "data": {
      "text/plain": "<bound method Module.eval of CNN(\n  (conv1): Conv2d(1, 8, kernel_size=(2, 2), stride=(1, 1), padding=(1, 1))\n  (pool): MaxPool2d(kernel_size=(2, 2), stride=(2, 2), padding=0, dilation=1, ceil_mode=False)\n  (conv2): Conv2d(8, 64, kernel_size=(2, 2), stride=(1, 1), padding=(1, 1))\n  (fc1): Linear(in_features=576, out_features=4, bias=True)\n)>"
     },
     "execution_count": 8,
     "metadata": {},
     "output_type": "execute_result"
    }
   ],
   "source": [
    "path = r\"C:\\Users\\sofu0\\OneDrive - ITU\\Bachelor\\models\\CNN\\test_test_model\"\n",
    "torch.save(model, path)\n",
    "model.eval"
   ],
   "metadata": {
    "collapsed": false,
    "pycharm": {
     "name": "#%%\n"
    }
   }
  },
  {
   "cell_type": "code",
   "execution_count": 9,
   "outputs": [
    {
     "name": "stdout",
     "output_type": "stream",
     "text": [
      "0.6947181171319102\n",
      "0.6364153424827623\n"
     ]
    }
   ],
   "source": [
    "o = torch.load(path)\n",
    "\n",
    "preds, y = check_accuracy(validation_loader, o)\n",
    "\n",
    "from sklearn.metrics import f1_score, accuracy_score\n",
    "print(accuracy_score(y, preds))\n",
    "print(f1_score(y, preds, average='macro'))"
   ],
   "metadata": {
    "collapsed": false,
    "pycharm": {
     "name": "#%%\n"
    }
   }
  },
  {
   "cell_type": "code",
   "execution_count": 10,
   "outputs": [
    {
     "ename": "ModuleNotFoundError",
     "evalue": "No module named 'CNN'",
     "output_type": "error",
     "traceback": [
      "\u001B[1;31m---------------------------------------------------------------------------\u001B[0m",
      "\u001B[1;31mModuleNotFoundError\u001B[0m                       Traceback (most recent call last)",
      "Input \u001B[1;32mIn [10]\u001B[0m, in \u001B[0;36m<module>\u001B[1;34m\u001B[0m\n\u001B[0;32m      1\u001B[0m path \u001B[38;5;241m=\u001B[39m \u001B[38;5;124mr\u001B[39m\u001B[38;5;124m\"\u001B[39m\u001B[38;5;124mC:\u001B[39m\u001B[38;5;124m\\\u001B[39m\u001B[38;5;124mUsers\u001B[39m\u001B[38;5;124m\\\u001B[39m\u001B[38;5;124msofu0\u001B[39m\u001B[38;5;124m\\\u001B[39m\u001B[38;5;124mOneDrive - ITU\u001B[39m\u001B[38;5;124m\\\u001B[39m\u001B[38;5;124mBachelor\u001B[39m\u001B[38;5;124m\\\u001B[39m\u001B[38;5;124mkfold\u001B[39m\u001B[38;5;124m\\\u001B[39m\u001B[38;5;124mfold0\u001B[39m\u001B[38;5;124m\\\u001B[39m\u001B[38;5;124mbatman_model\u001B[39m\u001B[38;5;124m\"\u001B[39m\n\u001B[1;32m----> 3\u001B[0m o \u001B[38;5;241m=\u001B[39m \u001B[43mtorch\u001B[49m\u001B[38;5;241;43m.\u001B[39;49m\u001B[43mload\u001B[49m\u001B[43m(\u001B[49m\u001B[43mpath\u001B[49m\u001B[43m)\u001B[49m\n\u001B[0;32m      5\u001B[0m preds, y \u001B[38;5;241m=\u001B[39m check_accuracy(validation_loader, o)\n\u001B[0;32m      7\u001B[0m \u001B[38;5;28;01mfrom\u001B[39;00m \u001B[38;5;21;01msklearn\u001B[39;00m\u001B[38;5;21;01m.\u001B[39;00m\u001B[38;5;21;01mmetrics\u001B[39;00m \u001B[38;5;28;01mimport\u001B[39;00m f1_score, accuracy_score\n",
      "File \u001B[1;32m~\\AppData\\Local\\Programs\\Python\\Python39\\lib\\site-packages\\torch\\serialization.py:712\u001B[0m, in \u001B[0;36mload\u001B[1;34m(f, map_location, pickle_module, **pickle_load_args)\u001B[0m\n\u001B[0;32m    710\u001B[0m             opened_file\u001B[38;5;241m.\u001B[39mseek(orig_position)\n\u001B[0;32m    711\u001B[0m             \u001B[38;5;28;01mreturn\u001B[39;00m torch\u001B[38;5;241m.\u001B[39mjit\u001B[38;5;241m.\u001B[39mload(opened_file)\n\u001B[1;32m--> 712\u001B[0m         \u001B[38;5;28;01mreturn\u001B[39;00m _load(opened_zipfile, map_location, pickle_module, \u001B[38;5;241m*\u001B[39m\u001B[38;5;241m*\u001B[39mpickle_load_args)\n\u001B[0;32m    713\u001B[0m \u001B[38;5;28;01mreturn\u001B[39;00m _legacy_load(opened_file, map_location, pickle_module, \u001B[38;5;241m*\u001B[39m\u001B[38;5;241m*\u001B[39mpickle_load_args)\n",
      "File \u001B[1;32m~\\AppData\\Local\\Programs\\Python\\Python39\\lib\\site-packages\\torch\\serialization.py:1046\u001B[0m, in \u001B[0;36m_load\u001B[1;34m(zip_file, map_location, pickle_module, pickle_file, **pickle_load_args)\u001B[0m\n\u001B[0;32m   1044\u001B[0m unpickler \u001B[38;5;241m=\u001B[39m UnpicklerWrapper(data_file, \u001B[38;5;241m*\u001B[39m\u001B[38;5;241m*\u001B[39mpickle_load_args)\n\u001B[0;32m   1045\u001B[0m unpickler\u001B[38;5;241m.\u001B[39mpersistent_load \u001B[38;5;241m=\u001B[39m persistent_load\n\u001B[1;32m-> 1046\u001B[0m result \u001B[38;5;241m=\u001B[39m \u001B[43munpickler\u001B[49m\u001B[38;5;241;43m.\u001B[39;49m\u001B[43mload\u001B[49m\u001B[43m(\u001B[49m\u001B[43m)\u001B[49m\n\u001B[0;32m   1048\u001B[0m torch\u001B[38;5;241m.\u001B[39m_utils\u001B[38;5;241m.\u001B[39m_validate_loaded_sparse_tensors()\n\u001B[0;32m   1050\u001B[0m \u001B[38;5;28;01mreturn\u001B[39;00m result\n",
      "File \u001B[1;32m~\\AppData\\Local\\Programs\\Python\\Python39\\lib\\site-packages\\torch\\serialization.py:1039\u001B[0m, in \u001B[0;36m_load.<locals>.UnpicklerWrapper.find_class\u001B[1;34m(self, mod_name, name)\u001B[0m\n\u001B[0;32m   1037\u001B[0m         \u001B[38;5;28;01mpass\u001B[39;00m\n\u001B[0;32m   1038\u001B[0m mod_name \u001B[38;5;241m=\u001B[39m load_module_mapping\u001B[38;5;241m.\u001B[39mget(mod_name, mod_name)\n\u001B[1;32m-> 1039\u001B[0m \u001B[38;5;28;01mreturn\u001B[39;00m \u001B[38;5;28;43msuper\u001B[39;49m\u001B[43m(\u001B[49m\u001B[43m)\u001B[49m\u001B[38;5;241;43m.\u001B[39;49m\u001B[43mfind_class\u001B[49m\u001B[43m(\u001B[49m\u001B[43mmod_name\u001B[49m\u001B[43m,\u001B[49m\u001B[43m \u001B[49m\u001B[43mname\u001B[49m\u001B[43m)\u001B[49m\n",
      "\u001B[1;31mModuleNotFoundError\u001B[0m: No module named 'CNN'"
     ]
    }
   ],
   "source": [
    "path = r\"C:\\Users\\sofu0\\OneDrive - ITU\\Bachelor\\kfold\\fold0\\batman_model\"\n",
    "\n",
    "o = torch.load(path)\n",
    "\n",
    "preds, y = check_accuracy(validation_loader, o)\n",
    "\n",
    "from sklearn.metrics import f1_score, accuracy_score\n",
    "print(accuracy_score(y, preds))\n",
    "print(f1_score(y, preds, average='macro'))"
   ],
   "metadata": {
    "collapsed": false,
    "pycharm": {
     "name": "#%%\n"
    }
   }
  },
  {
   "cell_type": "markdown",
   "source": [
    "<h2> Compare with SKlearn"
   ],
   "metadata": {
    "collapsed": false,
    "pycharm": {
     "name": "#%% md\n"
    }
   }
  },
  {
   "cell_type": "code",
   "execution_count": 10,
   "outputs": [],
   "source": [
    "import pandas as pd\n",
    "from sklearn.neural_network import MLPClassifier\n",
    "from sklearn.datasets import make_classification\n",
    "from sklearn.model_selection import train_test_split\n",
    "\n",
    "# df = pd.read_csv(r'C:\\Users\\sofu0\\OneDrive - ITU\\Bachelor\\all_skeleton\\all_skeleton_preprocessed_v2.csv')\n",
    "# df = df.sample(3600)\n",
    "# y = df[\"finals\"]\n",
    "# X = df.drop(columns=([\"finals\", \"videoname\", \"clipname\"]), axis=1)\n",
    "#\n",
    "# X_train, X_test, y_train, y_test = train_test_split(X, y, stratify=y, random_state=1)\n",
    "#\n",
    "# clf = MLPClassifier(random_state=1, max_iter=300).fit(X_train, y_train)\n",
    "#\n",
    "# clf.predict_proba(X_test[:1])\n",
    "# clf.score(X_test, y_test)"
   ],
   "metadata": {
    "collapsed": false,
    "pycharm": {
     "name": "#%%\n"
    }
   }
  },
  {
   "cell_type": "code",
   "execution_count": 13,
   "outputs": [
    {
     "name": "stderr",
     "output_type": "stream",
     "text": [
      "C:\\Users\\sofu0\\AppData\\Local\\Programs\\Python\\Python39\\lib\\site-packages\\sklearn\\neural_network\\_multilayer_perceptron.py:692: ConvergenceWarning: Stochastic Optimizer: Maximum iterations (300) reached and the optimization hasn't converged yet.\n",
      "  warnings.warn(\n"
     ]
    },
    {
     "data": {
      "text/plain": "0.6792993630573249"
     },
     "execution_count": 13,
     "metadata": {},
     "output_type": "execute_result"
    }
   ],
   "source": [
    "\n",
    "# path = r\"C:\\Users\\sofu0\\OneDrive - ITU\\Bachelor\\kfold\\fold0\"\n",
    "path = r\"C:\\Users\\sofu0\\OneDrive - ITU\\Bachelor\\kfold\\fold0\\sub_folder2\"\n",
    "\n",
    "path_train = path + \"\\\\train_non_padded.csv\"\n",
    "path_validation = path + \"\\\\validation_non_padded.csv\"\n",
    "\n",
    "\n",
    "\n",
    "\n",
    "df_train = pd.read_csv(path_train)\n",
    "df_test = pd.read_csv(path_validation)\n",
    "# df = df.sample(3600)\n",
    "y_test = df_test[\"finals\"]\n",
    "y_train = df_train[\"finals\"]\n",
    "\n",
    "\n",
    "X_test = df_test.drop(columns=([\"finals\", \"videoname\", \"clipname\"]), axis=1)\n",
    "X_train = df_train.drop(columns=([\"finals\", \"videoname\", \"clipname\"]), axis=1)\n",
    "\n",
    "# X_train, X_test, y_train, y_test = train_test_split(X, y, stratify=y, random_state=1)\n",
    "\n",
    "clf = MLPClassifier(random_state=1, max_iter=300).fit(X_train, y_train)\n",
    "\n",
    "clf.predict_proba(X_test[:1])\n",
    "clf.score(X_test, y_test)"
   ],
   "metadata": {
    "collapsed": false,
    "pycharm": {
     "name": "#%%\n"
    }
   }
  },
  {
   "cell_type": "markdown",
   "source": [
    "<h2> Make hyper parameter tuning"
   ],
   "metadata": {
    "collapsed": false,
    "pycharm": {
     "name": "#%% md\n"
    }
   }
  },
  {
   "cell_type": "code",
   "execution_count": 80,
   "outputs": [],
   "source": [],
   "metadata": {
    "collapsed": false,
    "pycharm": {
     "name": "#%%\n"
    }
   }
  },
  {
   "cell_type": "code",
   "execution_count": 92,
   "outputs": [],
   "source": [
    "# import optuna\n",
    "#\n",
    "# def objective(trial):\n",
    "#\n",
    "#     lr = trial.suggest_float(\"lr\", 0.01, 0.1)\n",
    "#     momentum = trial.suggest_float(\"momentum\", 0.1, 0.9)\n",
    "#\n",
    "#     hyperCNN = hyperparameter_CNN()\n",
    "#\n",
    "#\n",
    "#     return hyperCNN.run(lr, momentum, validation_loader, train_loader)\n",
    "#\n",
    "#\n",
    "#\n",
    "# study = optuna.create_study(direction=\"maximize\")\n",
    "# study.optimize(objective, n_trials=5)\n"
   ],
   "metadata": {
    "collapsed": false,
    "pycharm": {
     "name": "#%%\n"
    }
   }
  },
  {
   "cell_type": "code",
   "execution_count": null,
   "outputs": [],
   "source": [],
   "metadata": {
    "collapsed": false,
    "pycharm": {
     "name": "#%%\n"
    }
   }
  },
  {
   "cell_type": "markdown",
   "source": [
    "<h2> Hyper paremeter tuning"
   ],
   "metadata": {
    "collapsed": false,
    "pycharm": {
     "name": "#%% md\n"
    }
   }
  },
  {
   "cell_type": "markdown",
   "source": [
    "<h2> Check metrics on lower sample size"
   ],
   "metadata": {
    "collapsed": false,
    "pycharm": {
     "name": "#%% md\n"
    }
   }
  },
  {
   "cell_type": "code",
   "execution_count": 92,
   "outputs": [
    {
     "name": "stderr",
     "output_type": "stream",
     "text": [
      "C:\\Users\\sofu0\\AppData\\Local\\Temp\\ipykernel_17304\\3601899806.py:15: SettingWithCopyWarning: \n",
      "A value is trying to be set on a copy of a slice from a DataFrame\n",
      "\n",
      "See the caveats in the documentation: https://pandas.pydata.org/pandas-docs/stable/user_guide/indexing.html#returning-a-view-versus-a-copy\n",
      "  data[\"finals\"][data[\"finals\"]==\"idle\"] = 0\n",
      "C:\\Users\\sofu0\\AppData\\Local\\Temp\\ipykernel_17304\\3601899806.py:16: SettingWithCopyWarning: \n",
      "A value is trying to be set on a copy of a slice from a DataFrame\n",
      "\n",
      "See the caveats in the documentation: https://pandas.pydata.org/pandas-docs/stable/user_guide/indexing.html#returning-a-view-versus-a-copy\n",
      "  data[\"finals\"][data[\"finals\"]==\"take-off\"] = 1\n",
      "C:\\Users\\sofu0\\AppData\\Local\\Temp\\ipykernel_17304\\3601899806.py:17: SettingWithCopyWarning: \n",
      "A value is trying to be set on a copy of a slice from a DataFrame\n",
      "\n",
      "See the caveats in the documentation: https://pandas.pydata.org/pandas-docs/stable/user_guide/indexing.html#returning-a-view-versus-a-copy\n",
      "  data[\"finals\"][data[\"finals\"]==\"skill\"] = 2\n",
      "C:\\Users\\sofu0\\AppData\\Local\\Temp\\ipykernel_17304\\3601899806.py:18: SettingWithCopyWarning: \n",
      "A value is trying to be set on a copy of a slice from a DataFrame\n",
      "\n",
      "See the caveats in the documentation: https://pandas.pydata.org/pandas-docs/stable/user_guide/indexing.html#returning-a-view-versus-a-copy\n",
      "  data[\"finals\"][data[\"finals\"]==\"landing\"] = 3\n",
      "C:\\Users\\sofu0\\AppData\\Local\\Temp\\ipykernel_17304\\3601899806.py:15: SettingWithCopyWarning: \n",
      "A value is trying to be set on a copy of a slice from a DataFrame\n",
      "\n",
      "See the caveats in the documentation: https://pandas.pydata.org/pandas-docs/stable/user_guide/indexing.html#returning-a-view-versus-a-copy\n",
      "  data[\"finals\"][data[\"finals\"]==\"idle\"] = 0\n",
      "C:\\Users\\sofu0\\AppData\\Local\\Temp\\ipykernel_17304\\3601899806.py:16: SettingWithCopyWarning: \n",
      "A value is trying to be set on a copy of a slice from a DataFrame\n",
      "\n",
      "See the caveats in the documentation: https://pandas.pydata.org/pandas-docs/stable/user_guide/indexing.html#returning-a-view-versus-a-copy\n",
      "  data[\"finals\"][data[\"finals\"]==\"take-off\"] = 1\n",
      "C:\\Users\\sofu0\\AppData\\Local\\Temp\\ipykernel_17304\\3601899806.py:17: SettingWithCopyWarning: \n",
      "A value is trying to be set on a copy of a slice from a DataFrame\n",
      "\n",
      "See the caveats in the documentation: https://pandas.pydata.org/pandas-docs/stable/user_guide/indexing.html#returning-a-view-versus-a-copy\n",
      "  data[\"finals\"][data[\"finals\"]==\"skill\"] = 2\n",
      "C:\\Users\\sofu0\\AppData\\Local\\Temp\\ipykernel_17304\\3601899806.py:18: SettingWithCopyWarning: \n",
      "A value is trying to be set on a copy of a slice from a DataFrame\n",
      "\n",
      "See the caveats in the documentation: https://pandas.pydata.org/pandas-docs/stable/user_guide/indexing.html#returning-a-view-versus-a-copy\n",
      "  data[\"finals\"][data[\"finals\"]==\"landing\"] = 3\n"
     ]
    }
   ],
   "source": [
    "from torch import nn, optim\n",
    "import torch.nn.functional as F\n",
    "import torch.utils.data as data\n",
    "import torch\n",
    "import pandas as pd\n",
    "from torch.utils.data.sampler import SubsetRandomSampler\n",
    "import numpy as np\n",
    "\n",
    "class SkeletonData(data.Dataset):\n",
    "\n",
    "    def __init__(self, path):\n",
    "        super(SkeletonData, self).__init__()\n",
    "        data = pd.read_csv(path)\n",
    "\n",
    "        data[\"finals\"][data[\"finals\"]==\"idle\"] = 0\n",
    "        data[\"finals\"][data[\"finals\"]==\"take-off\"] = 1\n",
    "        data[\"finals\"][data[\"finals\"]==\"skill\"] = 2\n",
    "        data[\"finals\"][data[\"finals\"]==\"landing\"] = 3\n",
    "\n",
    "\n",
    "\n",
    "        data_labels = data['finals'].values\n",
    "        data = data.drop([\"clipname\", \"videoname\",\"finals\"],axis=1).values.reshape(len(data), 1, 2, 33)\n",
    "\n",
    "\n",
    "        self.datalist = data\n",
    "        self.labels = data_labels\n",
    "\n",
    "    def __getitem__(self, index):\n",
    "        return torch.Tensor(self.datalist[index].astype(float)), self.labels[index]\n",
    "\n",
    "\n",
    "\n",
    "    def __len__(self):\n",
    "        return self.datalist.shape[0]\n",
    "\n",
    "\n",
    "\n",
    "\n",
    "path = r\"C:\\Users\\sofu0\\OneDrive - ITU\\Bachelor\\kfold\\fold0\\sub_folder3\"\n",
    "# path = r\"C:\\Users\\sofu0\\OneDrive - ITU\\Bachelor\\kfold\\fold2\"\n",
    "\n",
    "path_train = path + \"\\\\train_non_padded.csv\"\n",
    "path_validation = path + \"\\\\validation_non_padded.csv\"\n",
    "train = SkeletonData(path_train)\n",
    "validation = SkeletonData(path_validation)\n",
    "batch_size = 64\n",
    "\n",
    "\n",
    "train_loader = torch.utils.data.DataLoader(train, batch_size=batch_size, sampler=None)\n",
    "#\n",
    "validation_loader = torch.utils.data.DataLoader(validation, batch_size=batch_size,sampler=None)\n"
   ],
   "metadata": {
    "collapsed": false,
    "pycharm": {
     "name": "#%%\n"
    }
   }
  },
  {
   "cell_type": "code",
   "execution_count": 134,
   "outputs": [
    {
     "data": {
      "text/plain": "12180"
     },
     "execution_count": 134,
     "metadata": {},
     "output_type": "execute_result"
    }
   ],
   "source": [
    "len(validation)"
   ],
   "metadata": {
    "collapsed": false,
    "pycharm": {
     "name": "#%%\n"
    }
   }
  },
  {
   "cell_type": "code",
   "execution_count": 98,
   "outputs": [
    {
     "name": "stdout",
     "output_type": "stream",
     "text": [
      "571\n",
      "36540\n"
     ]
    }
   ],
   "source": [
    "counter = 0\n",
    "for (x, y) in train_loader:\n",
    "    counter += 1\n",
    "\n",
    "print(counter)\n",
    "\n",
    "print(len(pd.read_csv(path_train )))"
   ],
   "metadata": {
    "collapsed": false,
    "pycharm": {
     "name": "#%%\n"
    }
   }
  },
  {
   "cell_type": "code",
   "execution_count": null,
   "outputs": [],
   "source": [
    "pd.read_csv()"
   ],
   "metadata": {
    "collapsed": false,
    "pycharm": {
     "name": "#%%\n"
    }
   }
  },
  {
   "cell_type": "code",
   "execution_count": 101,
   "outputs": [
    {
     "name": "stdout",
     "output_type": "stream",
     "text": [
      "[1,   100] loss: 0.068\n",
      "[2,   100] loss: 0.066\n",
      "[3,   100] loss: 0.062\n",
      "[4,   100] loss: 0.056\n",
      "[5,   100] loss: 0.053\n",
      "[6,   100] loss: 0.052\n",
      "[7,   100] loss: 0.051\n",
      "[8,   100] loss: 0.050\n",
      "[9,   100] loss: 0.049\n",
      "[10,   100] loss: 0.048\n",
      "[11,   100] loss: 0.048\n",
      "[12,   100] loss: 0.047\n",
      "[13,   100] loss: 0.047\n",
      "[14,   100] loss: 0.046\n",
      "[15,   100] loss: 0.047\n",
      "[16,   100] loss: 0.045\n",
      "[17,   100] loss: 0.045\n",
      "[18,   100] loss: 0.045\n",
      "[19,   100] loss: 0.044\n",
      "[20,   100] loss: 0.044\n"
     ]
    }
   ],
   "source": [
    "\n",
    "#train\n",
    "\n",
    "model = CNN()\n",
    "criterion = nn.NLLLoss()\n",
    "# optimizer = optim.SGD(model.parameters(), lr=0.03, momentum=0.8)\n",
    "optimizer = optim.SGD(model.parameters(), lr=0.03, momentum=0.8)\n",
    "# optimizer = optim.SGD(model.parameters(), lr=0.0005, momentum=0.8)\n",
    "loss_stuff = []\n",
    "from torch.autograd import Variable\n",
    "for epoch in range(20):\n",
    "    running_loss = 0.0\n",
    "    for i, (images, labels) in enumerate(train_loader):\n",
    "        # print(i)\n",
    "        images = Variable(images)\n",
    "        labels = Variable(labels)\n",
    "\n",
    "        optimizer.zero_grad()\n",
    "        # print(images.shape)\n",
    "        outputs = model(images)\n",
    "        # print(labels)\n",
    "\n",
    "        loss = criterion(outputs, labels)\n",
    "        loss.backward()\n",
    "        optimizer.step()\n",
    "\n",
    "        running_loss += loss.item()\n",
    "\n",
    "\n",
    "        if i % 100 == 99:    # print every 2000 mini-batches\n",
    "            print(f'[{epoch + 1}, {i + 1:5d}] loss: {running_loss / 2000:.3f}')\n",
    "            loss_stuff.append(running_loss)\n",
    "            running_loss = 0.0"
   ],
   "metadata": {
    "collapsed": false,
    "pycharm": {
     "name": "#%%\n"
    }
   }
  },
  {
   "cell_type": "code",
   "execution_count": 102,
   "outputs": [
    {
     "name": "stdout",
     "output_type": "stream",
     "text": [
      "0.7111724137931035\n",
      "0.6911733940754194\n"
     ]
    }
   ],
   "source": [
    "preds, y = check_accuracy(validation_loader, model)\n",
    "\n",
    "from sklearn.metrics import f1_score, accuracy_score\n",
    "print(accuracy_score(y, preds))\n",
    "print(f1_score(y, preds, average='macro'))"
   ],
   "metadata": {
    "collapsed": false,
    "pycharm": {
     "name": "#%%\n"
    }
   }
  },
  {
   "cell_type": "code",
   "execution_count": 89,
   "outputs": [
    {
     "data": {
      "text/plain": "[<matplotlib.lines.Line2D at 0x185832746a0>]"
     },
     "execution_count": 89,
     "metadata": {},
     "output_type": "execute_result"
    },
    {
     "data": {
      "text/plain": "<Figure size 432x288 with 1 Axes>",
      "image/png": "[encoded data removed]"
     },
     "metadata": {
      "needs_background": "light"
     },
     "output_type": "display_data"
    }
   ],
   "source": [
    "import matplotlib.pyplot as plt\n",
    "x = [i for i in range(len(loss_stuff))]\n",
    "\n",
    "plt.plot(x, loss_stuff)"
   ],
   "metadata": {
    "collapsed": false,
    "pycharm": {
     "name": "#%%\n"
    }
   }
  },
  {
   "cell_type": "code",
   "execution_count": 100,
   "outputs": [],
   "source": [
    "import torch\n",
    "import torch.nn as nn\n",
    "from torch import nn, optim\n",
    "import torch.nn.functional as F\n",
    "import torch.utils.data as data\n",
    "import torch\n",
    "import pandas as pd\n",
    "from torch.utils.data.sampler import SubsetRandomSampler\n",
    "import numpy as np\n",
    "\n",
    "class CNN(nn.Module):\n",
    "\n",
    "    def __init__(self, in_channels=1, num_classes=4):\n",
    "        super(CNN, self).__init__()\n",
    "        self.conv1 = nn.Conv2d(in_channels=1, out_channels=8, kernel_size=(2,2), stride=(1,1), padding=(1,1))\n",
    "        self.pool = nn.MaxPool2d(kernel_size=(2,2), stride= (2,2))\n",
    "        self.conv2 = nn.Conv2d(in_channels=8, out_channels=64, kernel_size=(2,2), stride=(1,1),padding=(1,1))\n",
    "        self.fc1 = nn.Linear(576, num_classes)\n",
    "\n",
    "    def forward(self, x):\n",
    "        # print(\"Forrrward!!!!\")\n",
    "        # print(\"Input\", x.shape)\n",
    "\n",
    "        x = F.relu(self.conv1(x))\n",
    "        # print(\"After first conv \",x.shape)\n",
    "        x = self.pool(x)\n",
    "        # print(\"after 1 pooling\", x.shape)\n",
    "\n",
    "        x = F.relu(self.conv2(x))\n",
    "        # print(\"after 2 convolution layer\",x.shape)\n",
    "        x = self.pool(x)\n",
    "        # print(\"after 2 poolling\",x.shape)\n",
    "        x = x.reshape(x.shape[0], -1)\n",
    "        # print(\"after flatten\",x.shape)\n",
    "        x = self.fc1(x)\n",
    "        # print(\"after fully connected layer\",x.shape)\n",
    "        x = F.log_softmax(x, dim=1)\n",
    "        # print(\"after softmax\",x.shape)\n",
    "\n",
    "        return x"
   ],
   "metadata": {
    "collapsed": false,
    "pycharm": {
     "name": "#%%\n"
    }
   }
  },
  {
   "cell_type": "code",
   "execution_count": 162,
   "outputs": [
    {
     "data": {
      "text/plain": "CNN(\n  (conv1): Conv2d(1, 8, kernel_size=(2, 2), stride=(1, 1), padding=(1, 1))\n  (pool): MaxPool2d(kernel_size=(2, 2), stride=(2, 2), padding=0, dilation=1, ceil_mode=False)\n  (conv2): Conv2d(8, 64, kernel_size=(2, 2), stride=(1, 1), padding=(1, 1))\n  (fc1): Linear(in_features=576, out_features=4, bias=True)\n)"
     },
     "execution_count": 162,
     "metadata": {},
     "output_type": "execute_result"
    }
   ],
   "source": [],
   "metadata": {
    "collapsed": false,
    "pycharm": {
     "name": "#%%\n"
    }
   }
  },
  {
   "cell_type": "code",
   "execution_count": 168,
   "outputs": [
    {
     "ename": "ModuleNotFoundError",
     "evalue": "No module named 'CNN'",
     "output_type": "error",
     "traceback": [
      "\u001B[1;31m---------------------------------------------------------------------------\u001B[0m",
      "\u001B[1;31mModuleNotFoundError\u001B[0m                       Traceback (most recent call last)",
      "Input \u001B[1;32mIn [168]\u001B[0m, in \u001B[0;36m<module>\u001B[1;34m\u001B[0m\n\u001B[0;32m      8\u001B[0m model \u001B[38;5;241m=\u001B[39m CNN()\n\u001B[0;32m      9\u001B[0m path \u001B[38;5;241m=\u001B[39m \u001B[38;5;124mr\u001B[39m\u001B[38;5;124m\"\u001B[39m\u001B[38;5;124mC:\u001B[39m\u001B[38;5;124m\\\u001B[39m\u001B[38;5;124mUsers\u001B[39m\u001B[38;5;124m\\\u001B[39m\u001B[38;5;124msofu0\u001B[39m\u001B[38;5;124m\\\u001B[39m\u001B[38;5;124mOneDrive - ITU\u001B[39m\u001B[38;5;124m\\\u001B[39m\u001B[38;5;124mBachelor\u001B[39m\u001B[38;5;124m\\\u001B[39m\u001B[38;5;124mkfold\u001B[39m\u001B[38;5;124m\\\u001B[39m\u001B[38;5;124mfold0\u001B[39m\u001B[38;5;124m\\\u001B[39m\u001B[38;5;124msub_folder0\u001B[39m\u001B[38;5;124m\\\u001B[39m\u001B[38;5;124mCNN_super-robin\u001B[39m\u001B[38;5;124m\"\u001B[39m\n\u001B[1;32m---> 11\u001B[0m model\u001B[38;5;241m.\u001B[39mload_state_dict(\u001B[43mtorch\u001B[49m\u001B[38;5;241;43m.\u001B[39;49m\u001B[43mload\u001B[49m\u001B[43m(\u001B[49m\u001B[43mpath\u001B[49m\u001B[43m)\u001B[49m)\n",
      "File \u001B[1;32m~\\AppData\\Local\\Programs\\Python\\Python39\\lib\\site-packages\\torch\\serialization.py:712\u001B[0m, in \u001B[0;36mload\u001B[1;34m(f, map_location, pickle_module, **pickle_load_args)\u001B[0m\n\u001B[0;32m    710\u001B[0m             opened_file\u001B[38;5;241m.\u001B[39mseek(orig_position)\n\u001B[0;32m    711\u001B[0m             \u001B[38;5;28;01mreturn\u001B[39;00m torch\u001B[38;5;241m.\u001B[39mjit\u001B[38;5;241m.\u001B[39mload(opened_file)\n\u001B[1;32m--> 712\u001B[0m         \u001B[38;5;28;01mreturn\u001B[39;00m _load(opened_zipfile, map_location, pickle_module, \u001B[38;5;241m*\u001B[39m\u001B[38;5;241m*\u001B[39mpickle_load_args)\n\u001B[0;32m    713\u001B[0m \u001B[38;5;28;01mreturn\u001B[39;00m _legacy_load(opened_file, map_location, pickle_module, \u001B[38;5;241m*\u001B[39m\u001B[38;5;241m*\u001B[39mpickle_load_args)\n",
      "File \u001B[1;32m~\\AppData\\Local\\Programs\\Python\\Python39\\lib\\site-packages\\torch\\serialization.py:1046\u001B[0m, in \u001B[0;36m_load\u001B[1;34m(zip_file, map_location, pickle_module, pickle_file, **pickle_load_args)\u001B[0m\n\u001B[0;32m   1044\u001B[0m unpickler \u001B[38;5;241m=\u001B[39m UnpicklerWrapper(data_file, \u001B[38;5;241m*\u001B[39m\u001B[38;5;241m*\u001B[39mpickle_load_args)\n\u001B[0;32m   1045\u001B[0m unpickler\u001B[38;5;241m.\u001B[39mpersistent_load \u001B[38;5;241m=\u001B[39m persistent_load\n\u001B[1;32m-> 1046\u001B[0m result \u001B[38;5;241m=\u001B[39m \u001B[43munpickler\u001B[49m\u001B[38;5;241;43m.\u001B[39;49m\u001B[43mload\u001B[49m\u001B[43m(\u001B[49m\u001B[43m)\u001B[49m\n\u001B[0;32m   1048\u001B[0m torch\u001B[38;5;241m.\u001B[39m_utils\u001B[38;5;241m.\u001B[39m_validate_loaded_sparse_tensors()\n\u001B[0;32m   1050\u001B[0m \u001B[38;5;28;01mreturn\u001B[39;00m result\n",
      "File \u001B[1;32m~\\AppData\\Local\\Programs\\Python\\Python39\\lib\\site-packages\\torch\\serialization.py:1039\u001B[0m, in \u001B[0;36m_load.<locals>.UnpicklerWrapper.find_class\u001B[1;34m(self, mod_name, name)\u001B[0m\n\u001B[0;32m   1037\u001B[0m         \u001B[38;5;28;01mpass\u001B[39;00m\n\u001B[0;32m   1038\u001B[0m mod_name \u001B[38;5;241m=\u001B[39m load_module_mapping\u001B[38;5;241m.\u001B[39mget(mod_name, mod_name)\n\u001B[1;32m-> 1039\u001B[0m \u001B[38;5;28;01mreturn\u001B[39;00m \u001B[38;5;28;43msuper\u001B[39;49m\u001B[43m(\u001B[49m\u001B[43m)\u001B[49m\u001B[38;5;241;43m.\u001B[39;49m\u001B[43mfind_class\u001B[49m\u001B[43m(\u001B[49m\u001B[43mmod_name\u001B[49m\u001B[43m,\u001B[49m\u001B[43m \u001B[49m\u001B[43mname\u001B[49m\u001B[43m)\u001B[49m\n",
      "\u001B[1;31mModuleNotFoundError\u001B[0m: No module named 'CNN'"
     ]
    }
   ],
   "source": [
    "# from kfoldCNN.CNN import CNN\n",
    "#\n",
    "# model = CNN()\n",
    "# path = r\"C:\\Users\\sofu0\\OneDrive - ITU\\Bachelor\\kfold\\fold0\\sub_folder0\\CNN_super-robin\"\n",
    "#\n",
    "# model.load_state_dict(torch.load(path))\n",
    "# # model.eval()"
   ],
   "metadata": {
    "collapsed": false,
    "pycharm": {
     "name": "#%%\n"
    }
   }
  },
  {
   "cell_type": "code",
   "execution_count": 1,
   "outputs": [
    {
     "name": "stdout",
     "output_type": "stream",
     "text": [
      "lol\n"
     ]
    }
   ],
   "source": [
    "print(\"lol\")"
   ],
   "metadata": {
    "collapsed": false,
    "pycharm": {
     "name": "#%%\n"
    }
   }
  },
  {
   "cell_type": "code",
   "execution_count": null,
   "outputs": [],
   "source": [],
   "metadata": {
    "collapsed": false,
    "pycharm": {
     "name": "#%%\n"
    }
   }
  },
  {
   "cell_type": "markdown",
   "source": [
    "<h2> Plot loss function"
   ],
   "metadata": {
    "collapsed": false,
    "pycharm": {
     "name": "#%% md\n"
    }
   }
  },
  {
   "cell_type": "code",
   "execution_count": 43,
   "outputs": [],
   "source": [
    "import json\n",
    "\n",
    "# C:\\Users\\sofu0\\OneDrive - ITU\\Bachelor\\kfold\\fold2\\sub_folder0\n",
    "# ADAM-LSTM_super_robin_stats10-05-2021LSTMMorten\n",
    "\n",
    "path = r\"C:\\Users\\sofu0\\OneDrive - ITU\\Bachelor\\kfold\\fold2\\sub_folder0\\ADAM-LSTM_super_robin_stats10-05-2021LSTMMorten.json\"\n",
    "# Opening JSON file\n",
    "f = open(path)\n",
    "\n",
    "# returns JSON object as\n",
    "# a dictionary\n",
    "data = json.load(f)"
   ],
   "metadata": {
    "collapsed": false,
    "pycharm": {
     "name": "#%%\n"
    }
   }
  },
  {
   "cell_type": "code",
   "execution_count": 45,
   "outputs": [
    {
     "data": {
      "text/plain": "[<matplotlib.lines.Line2D at 0x185fc896be0>]"
     },
     "execution_count": 45,
     "metadata": {},
     "output_type": "execute_result"
    },
    {
     "data": {
      "text/plain": "<Figure size 432x288 with 1 Axes>",
      "image/png": "[encoded data removed]"
     },
     "metadata": {
      "needs_background": "light"
     },
     "output_type": "display_data"
    }
   ],
   "source": [
    "y = data[\"loss\"]\n",
    "x = [i for i in range(len(y))]\n",
    "plt.plot(x, y)"
   ],
   "metadata": {
    "collapsed": false,
    "pycharm": {
     "name": "#%%\n"
    }
   }
  },
  {
   "cell_type": "code",
   "execution_count": 56,
   "outputs": [
    {
     "data": {
      "text/plain": "[<matplotlib.lines.Line2D at 0x185fca3b670>]"
     },
     "execution_count": 56,
     "metadata": {},
     "output_type": "execute_result"
    },
    {
     "data": {
      "text/plain": "<Figure size 432x288 with 1 Axes>",
      "image/png": "[encoded data removed]"
     },
     "metadata": {
      "needs_background": "light"
     },
     "output_type": "display_data"
    }
   ],
   "source": [
    "path = r\"C:\\Users\\sofu0\\OneDrive - ITU\\Bachelor\\kfold\\fold2\\sub_folder3\\LSTM_super_robin_stats09-05-2021LSTMMorten.json\"\n",
    "# Opening JSON file\n",
    "f = open(path)\n",
    "\n",
    "# returns JSON object as\n",
    "# a dictionary\n",
    "data = json.load(f)\n",
    "y = data[\"loss\"]\n",
    "x = [i for i in range(len(y))]\n",
    "plt.plot(x, y)"
   ],
   "metadata": {
    "collapsed": false,
    "pycharm": {
     "name": "#%%\n"
    }
   }
  },
  {
   "cell_type": "code",
   "execution_count": 2,
   "outputs": [
    {
     "data": {
      "text/plain": "             0x        0y        1x        1y        2x        2y        3x  \\\n0      0.000000  0.000000  0.000000  0.000000  0.000000  0.000000  0.000000   \n1      0.000000  0.000000  0.000000  0.000000  0.000000  0.000000  0.000000   \n2      0.000000  0.000000  0.000000  0.000000  0.000000  0.000000  0.000000   \n3      0.000000  0.000000  0.000000  0.000000  0.000000  0.000000  0.000000   \n4      0.238255  0.359316  0.238947  0.349287  0.239765  0.348851  0.240616   \n...         ...       ...       ...       ...       ...       ...       ...   \n44793  0.524156  0.403692  0.528366  0.382397  0.531561  0.381533  0.534749   \n44794  0.528549  0.402857  0.533254  0.381566  0.536497  0.380748  0.539910   \n44795  0.530524  0.402026  0.536087  0.380845  0.539412  0.380139  0.542580   \n44796  0.533635  0.401251  0.539644  0.380287  0.542915  0.379672  0.546324   \n44797  0.537409  0.398410  0.542807  0.378873  0.545973  0.378673  0.549495   \n\n             3y        4x        4y  ...       29y       30x       30y  \\\n0      0.000000  0.000000  0.000000  ...  0.000000  0.000000  0.000000   \n1      0.000000  0.000000  0.000000  ...  0.000000  0.000000  0.000000   \n2      0.000000  0.000000  0.000000  ...  0.000000  0.000000  0.000000   \n3      0.000000  0.000000  0.000000  ...  0.000000  0.000000  0.000000   \n4      0.348537  0.235797  0.349299  ...  0.629695  0.223585  0.652335   \n...         ...       ...       ...  ...       ...       ...       ...   \n44793  0.380650  0.517473  0.383198  ...  1.068690  0.512033  1.056539   \n44794  0.379948  0.522269  0.382231  ...  1.065560  0.513997  1.062406   \n44795  0.379461  0.525124  0.381188  ...  1.062724  0.516521  1.058387   \n44796  0.379101  0.528418  0.380499  ...  1.062203  0.515745  1.060971   \n44797  0.378440  0.532392  0.377100  ...  1.022856  0.516640  1.057333   \n\n            31x       31y       32x       32y  finals     clipname  videoname  \n0      0.000000  0.000000  0.000000  0.000000    idle   Video3init     Video1  \n1      0.000000  0.000000  0.000000  0.000000    idle   Video3init     Video1  \n2      0.000000  0.000000  0.000000  0.000000    idle   Video3init     Video1  \n3      0.000000  0.000000  0.000000  0.000000    idle   Video3init     Video1  \n4      0.134526  0.638798  0.249388  0.662620    idle   Video3init     Video1  \n...         ...       ...       ...       ...     ...          ...        ...  \n44793  0.548201  1.130762  0.506130  1.129902    idle  video27init    Video19  \n44794  0.551057  1.126227  0.508343  1.128600    idle  video27init    Video19  \n44795  0.551389  1.124405  0.508178  1.125588    idle  video27init    Video19  \n44796  0.552390  1.122008  0.510948  1.125511    idle  video27init    Video19  \n44797  0.552442  1.119170  0.511572  1.112630    idle  video27init    Video19  \n\n[44798 rows x 69 columns]",
      "text/html": "<div>\n<style scoped>\n    .dataframe tbody tr th:only-of-type {\n        vertical-align: middle;\n    }\n\n    .dataframe tbody tr th {\n        vertical-align: top;\n    }\n\n    .dataframe thead th {\n        text-align: right;\n    }\n</style>\n<table border=\"1\" class=\"dataframe\">\n  <thead>\n    <tr style=\"text-align: right;\">\n      <th></th>\n      <th>0x</th>\n      <th>0y</th>\n      <th>1x</th>\n      <th>1y</th>\n      <th>2x</th>\n      <th>2y</th>\n      <th>3x</th>\n      <th>3y</th>\n      <th>4x</th>\n      <th>4y</th>\n      <th>...</th>\n      <th>29y</th>\n      <th>30x</th>\n      <th>30y</th>\n      <th>31x</th>\n      <th>31y</th>\n      <th>32x</th>\n      <th>32y</th>\n      <th>finals</th>\n      <th>clipname</th>\n      <th>videoname</th>\n    </tr>\n  </thead>\n  <tbody>\n    <tr>\n      <th>0</th>\n      <td>0.000000</td>\n      <td>0.000000</td>\n      <td>0.000000</td>\n      <td>0.000000</td>\n      <td>0.000000</td>\n      <td>0.000000</td>\n      <td>0.000000</td>\n      <td>0.000000</td>\n      <td>0.000000</td>\n      <td>0.000000</td>\n      <td>...</td>\n      <td>0.000000</td>\n      <td>0.000000</td>\n      <td>0.000000</td>\n      <td>0.000000</td>\n      <td>0.000000</td>\n      <td>0.000000</td>\n      <td>0.000000</td>\n      <td>idle</td>\n      <td>Video3init</td>\n      <td>Video1</td>\n    </tr>\n    <tr>\n      <th>1</th>\n      <td>0.000000</td>\n      <td>0.000000</td>\n      <td>0.000000</td>\n      <td>0.000000</td>\n      <td>0.000000</td>\n      <td>0.000000</td>\n      <td>0.000000</td>\n      <td>0.000000</td>\n      <td>0.000000</td>\n      <td>0.000000</td>\n      <td>...</td>\n      <td>0.000000</td>\n      <td>0.000000</td>\n      <td>0.000000</td>\n      <td>0.000000</td>\n      <td>0.000000</td>\n      <td>0.000000</td>\n      <td>0.000000</td>\n      <td>idle</td>\n      <td>Video3init</td>\n      <td>Video1</td>\n    </tr>\n    <tr>\n      <th>2</th>\n      <td>0.000000</td>\n      <td>0.000000</td>\n      <td>0.000000</td>\n      <td>0.000000</td>\n      <td>0.000000</td>\n      <td>0.000000</td>\n      <td>0.000000</td>\n      <td>0.000000</td>\n      <td>0.000000</td>\n      <td>0.000000</td>\n      <td>...</td>\n      <td>0.000000</td>\n      <td>0.000000</td>\n      <td>0.000000</td>\n      <td>0.000000</td>\n      <td>0.000000</td>\n      <td>0.000000</td>\n      <td>0.000000</td>\n      <td>idle</td>\n      <td>Video3init</td>\n      <td>Video1</td>\n    </tr>\n    <tr>\n      <th>3</th>\n      <td>0.000000</td>\n      <td>0.000000</td>\n      <td>0.000000</td>\n      <td>0.000000</td>\n      <td>0.000000</td>\n      <td>0.000000</td>\n      <td>0.000000</td>\n      <td>0.000000</td>\n      <td>0.000000</td>\n      <td>0.000000</td>\n      <td>...</td>\n      <td>0.000000</td>\n      <td>0.000000</td>\n      <td>0.000000</td>\n      <td>0.000000</td>\n      <td>0.000000</td>\n      <td>0.000000</td>\n      <td>0.000000</td>\n      <td>idle</td>\n      <td>Video3init</td>\n      <td>Video1</td>\n    </tr>\n    <tr>\n      <th>4</th>\n      <td>0.238255</td>\n      <td>0.359316</td>\n      <td>0.238947</td>\n      <td>0.349287</td>\n      <td>0.239765</td>\n      <td>0.348851</td>\n      <td>0.240616</td>\n      <td>0.348537</td>\n      <td>0.235797</td>\n      <td>0.349299</td>\n      <td>...</td>\n      <td>0.629695</td>\n      <td>0.223585</td>\n      <td>0.652335</td>\n      <td>0.134526</td>\n      <td>0.638798</td>\n      <td>0.249388</td>\n      <td>0.662620</td>\n      <td>idle</td>\n      <td>Video3init</td>\n      <td>Video1</td>\n    </tr>\n    <tr>\n      <th>...</th>\n      <td>...</td>\n      <td>...</td>\n      <td>...</td>\n      <td>...</td>\n      <td>...</td>\n      <td>...</td>\n      <td>...</td>\n      <td>...</td>\n      <td>...</td>\n      <td>...</td>\n      <td>...</td>\n      <td>...</td>\n      <td>...</td>\n      <td>...</td>\n      <td>...</td>\n      <td>...</td>\n      <td>...</td>\n      <td>...</td>\n      <td>...</td>\n      <td>...</td>\n      <td>...</td>\n    </tr>\n    <tr>\n      <th>44793</th>\n      <td>0.524156</td>\n      <td>0.403692</td>\n      <td>0.528366</td>\n      <td>0.382397</td>\n      <td>0.531561</td>\n      <td>0.381533</td>\n      <td>0.534749</td>\n      <td>0.380650</td>\n      <td>0.517473</td>\n      <td>0.383198</td>\n      <td>...</td>\n      <td>1.068690</td>\n      <td>0.512033</td>\n      <td>1.056539</td>\n      <td>0.548201</td>\n      <td>1.130762</td>\n      <td>0.506130</td>\n      <td>1.129902</td>\n      <td>idle</td>\n      <td>video27init</td>\n      <td>Video19</td>\n    </tr>\n    <tr>\n      <th>44794</th>\n      <td>0.528549</td>\n      <td>0.402857</td>\n      <td>0.533254</td>\n      <td>0.381566</td>\n      <td>0.536497</td>\n      <td>0.380748</td>\n      <td>0.539910</td>\n      <td>0.379948</td>\n      <td>0.522269</td>\n      <td>0.382231</td>\n      <td>...</td>\n      <td>1.065560</td>\n      <td>0.513997</td>\n      <td>1.062406</td>\n      <td>0.551057</td>\n      <td>1.126227</td>\n      <td>0.508343</td>\n      <td>1.128600</td>\n      <td>idle</td>\n      <td>video27init</td>\n      <td>Video19</td>\n    </tr>\n    <tr>\n      <th>44795</th>\n      <td>0.530524</td>\n      <td>0.402026</td>\n      <td>0.536087</td>\n      <td>0.380845</td>\n      <td>0.539412</td>\n      <td>0.380139</td>\n      <td>0.542580</td>\n      <td>0.379461</td>\n      <td>0.525124</td>\n      <td>0.381188</td>\n      <td>...</td>\n      <td>1.062724</td>\n      <td>0.516521</td>\n      <td>1.058387</td>\n      <td>0.551389</td>\n      <td>1.124405</td>\n      <td>0.508178</td>\n      <td>1.125588</td>\n      <td>idle</td>\n      <td>video27init</td>\n      <td>Video19</td>\n    </tr>\n    <tr>\n      <th>44796</th>\n      <td>0.533635</td>\n      <td>0.401251</td>\n      <td>0.539644</td>\n      <td>0.380287</td>\n      <td>0.542915</td>\n      <td>0.379672</td>\n      <td>0.546324</td>\n      <td>0.379101</td>\n      <td>0.528418</td>\n      <td>0.380499</td>\n      <td>...</td>\n      <td>1.062203</td>\n      <td>0.515745</td>\n      <td>1.060971</td>\n      <td>0.552390</td>\n      <td>1.122008</td>\n      <td>0.510948</td>\n      <td>1.125511</td>\n      <td>idle</td>\n      <td>video27init</td>\n      <td>Video19</td>\n    </tr>\n    <tr>\n      <th>44797</th>\n      <td>0.537409</td>\n      <td>0.398410</td>\n      <td>0.542807</td>\n      <td>0.378873</td>\n      <td>0.545973</td>\n      <td>0.378673</td>\n      <td>0.549495</td>\n      <td>0.378440</td>\n      <td>0.532392</td>\n      <td>0.377100</td>\n      <td>...</td>\n      <td>1.022856</td>\n      <td>0.516640</td>\n      <td>1.057333</td>\n      <td>0.552442</td>\n      <td>1.119170</td>\n      <td>0.511572</td>\n      <td>1.112630</td>\n      <td>idle</td>\n      <td>video27init</td>\n      <td>Video19</td>\n    </tr>\n  </tbody>\n</table>\n<p>44798 rows × 69 columns</p>\n</div>"
     },
     "execution_count": 2,
     "metadata": {},
     "output_type": "execute_result"
    }
   ],
   "source": [
    "import pandas as pd\n",
    "path = r\"C:\\Users\\sofu0\\OneDrive - ITU\\Bachelor\\all_skeleton\\all_skeleton_v2.csv\"\n",
    "df = pd.read_csv(path)\n",
    "good_videos = []\n",
    "test_videos = []\n",
    "df"
   ],
   "metadata": {
    "collapsed": false,
    "pycharm": {
     "name": "#%%\n"
    }
   }
  }
 ],
 "metadata": {
  "kernelspec": {
   "display_name": "Python 3",
   "language": "python",
   "name": "python3"
  },
  "language_info": {
   "codemirror_mode": {
    "name": "ipython",
    "version": 2
   },
   "file_extension": ".py",
   "mimetype": "text/x-python",
   "name": "python",
   "nbconvert_exporter": "python",
   "pygments_lexer": "ipython2",
   "version": "2.7.6"
  }
 },
 "nbformat": 4,
 "nbformat_minor": 0
}