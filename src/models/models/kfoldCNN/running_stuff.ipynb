{
 "cells": [
  {
   "cell_type": "code",
   "execution_count": 2,
   "metadata": {
    "collapsed": true
   },
   "outputs": [],
   "source": [
    "from torch import nn, optim\n",
    "import torch.nn.functional as F\n",
    "import torch.utils.data as data\n",
    "import torch\n",
    "import pandas as pd\n",
    "from torch.utils.data.sampler import SubsetRandomSampler\n",
    "import numpy as np\n",
    "from CNN import CNN\n",
    "from dataloader import SkeletonData\n",
    "from hyperparameter import hyperparameter_CNN\n",
    "import optuna"
   ]
  },
  {
   "cell_type": "code",
   "execution_count": 4,
   "outputs": [],
   "source": [
    "from torch import nn, optim\n",
    "import torch.nn.functional as F\n",
    "import torch.utils.data as data\n",
    "import torch\n",
    "import pandas as pd\n",
    "from torch.utils.data.sampler import SubsetRandomSampler\n",
    "import numpy as np\n",
    "\n",
    "class SkeletonData(data.Dataset):\n",
    "    def __init__(self):\n",
    "\n",
    "        train = pd.read_csv(r'C:\\Users\\sofu0\\OneDrive - ITU\\Bachelor\\all_skeleton\\skeleton_csv_from_json_v2.csv')\n",
    "        # train = pd.read_csv(r'C:\\Users\\sofu0\\OneDrive - ITU\\Bachelor\\all_skeleton\\all_skeleton_preprocessed_v2.csv')\n",
    "\n",
    "        train.finals = pd.factorize(train.finals)[0]\n",
    "        train_labels = train['finals'].values\n",
    "\n",
    "        train = train.drop([\"clipname\", \"videoname\",\"finals\"],axis=1).values.reshape(len(train), 1, 2, 33)\n",
    "\n",
    "\n",
    "        self.datalist = train\n",
    "        self.labels = train_labels\n",
    "    def __getitem__(self, index):\n",
    "        return torch.Tensor(self.datalist[index].astype(float)), self.labels[index]\n",
    "    def __len__(self):\n",
    "        return self.datalist.shape[0]\n",
    "\n",
    "# train_Set = SkeletonData()\n",
    "# trainloader = torch.utils.data.DataLoader( dataset = train_Set , batch_size= 64 , shuffle = True)\n",
    "\n",
    "\n",
    "dataset = SkeletonData()\n",
    "batch_size = 64\n",
    "validation_split = .2\n",
    "shuffle_dataset = True\n",
    "random_seed= 42\n",
    "\n",
    "# Creating data indices for training and validation splits:\n",
    "dataset_size = len(dataset)\n",
    "indices = list(range(dataset_size))\n",
    "split = int(np.floor(validation_split * dataset_size))\n",
    "if shuffle_dataset :\n",
    "    np.random.seed(random_seed)\n",
    "    np.random.shuffle(indices)\n",
    "train_indices, val_indices = indices[split:], indices[:split]\n",
    "\n",
    "# Creating PT data samplers and loaders:\n",
    "train_sampler = SubsetRandomSampler(train_indices)\n",
    "valid_sampler = SubsetRandomSampler(val_indices)\n",
    "\n",
    "train_loader = torch.utils.data.DataLoader(dataset, batch_size=batch_size,\n",
    "                                           sampler=train_sampler)\n",
    "validation_loader = torch.utils.data.DataLoader(dataset, batch_size=batch_size,\n",
    "                                                sampler=valid_sampler)"
   ],
   "metadata": {
    "collapsed": false,
    "pycharm": {
     "name": "#%%\n"
    }
   }
  },
  {
   "cell_type": "code",
   "execution_count": 17,
   "outputs": [],
   "source": [
    "#importing and creating dataset\n",
    "#\n",
    "\n",
    "path = r\"C:\\Users\\sofu0\\OneDrive - ITU\\Bachelor\\kfold\\fold1\\sub_folder0\"\n",
    "\n",
    "# path = r\"C:\\Users\\sofu0\\OneDrive - ITU\\Bachelor\\kfold\\fold0\\sub_folder0\n",
    "path_train = path + \"\\\\train.csv\"\n",
    "path_validation = path + \"\\\\validation.csv\"\n",
    "train = SkeletonData(path_train)\n",
    "validation = SkeletonData(path_validation)\n",
    "batch_size = 64\n",
    "\n",
    "train_loader = torch.utils.data.DataLoader(train, batch_size=batch_size,\n",
    "                                           sampler=None)\n",
    "\n",
    "validation_loader = torch.utils.data.DataLoader(validation, batch_size=batch_size,\n",
    "                                           sampler=None)"
   ],
   "metadata": {
    "collapsed": false,
    "pycharm": {
     "name": "#%%\n"
    }
   }
  },
  {
   "cell_type": "code",
   "execution_count": 2,
   "outputs": [],
   "source": [],
   "metadata": {
    "collapsed": false,
    "pycharm": {
     "name": "#%%\n"
    }
   }
  },
  {
   "cell_type": "code",
   "execution_count": 14,
   "outputs": [
    {
     "name": "stdout",
     "output_type": "stream",
     "text": [
      "62400\n",
      "62400\n",
      "62400\n"
     ]
    }
   ],
   "source": [
    "#check if all classes represent\n",
    "# lol = pd.read_csv(r'C:\\Users\\sofu0\\OneDrive - ITU\\Bachelor\\all_skeleton\\skeleton_csv_from_json_v2.csv')\n",
    "# print(lol['finals'].value_counts())\n",
    "print(len(lol))\n",
    "print(len(train_loader.dataset))\n",
    "print(len(validation_loader.dataset))"
   ],
   "metadata": {
    "collapsed": false,
    "pycharm": {
     "name": "#%%\n"
    }
   }
  },
  {
   "cell_type": "code",
   "execution_count": 18,
   "outputs": [
    {
     "name": "stderr",
     "output_type": "stream",
     "text": [
      "\u001B[32m[I 2022-05-08 21:08:53,131]\u001B[0m A new study created in memory with name: no-name-e19dac89-75d9-4311-93ca-e854481ebfa8\u001B[0m\n",
      "\u001B[32m[I 2022-05-08 21:10:00,230]\u001B[0m Trial 0 finished with value: 0.5462506841817186 and parameters: {'lr': 0.08463894043710325, 'momentum': 0.43329260262862146}. Best is trial 0 with value: 0.5462506841817186.\u001B[0m\n"
     ]
    },
    {
     "ename": "KeyboardInterrupt",
     "evalue": "",
     "output_type": "error",
     "traceback": [
      "\u001B[1;31m---------------------------------------------------------------------------\u001B[0m",
      "\u001B[1;31mKeyboardInterrupt\u001B[0m                         Traceback (most recent call last)",
      "Input \u001B[1;32mIn [18]\u001B[0m, in \u001B[0;36m<module>\u001B[1;34m\u001B[0m\n\u001B[0;32m     11\u001B[0m     \u001B[38;5;28;01mreturn\u001B[39;00m hyperCNN\u001B[38;5;241m.\u001B[39mrun(lr, momentum, train_loader, train_loader, epochs\u001B[38;5;241m=\u001B[39m\u001B[38;5;241m10\u001B[39m)\n\u001B[0;32m     15\u001B[0m study \u001B[38;5;241m=\u001B[39m optuna\u001B[38;5;241m.\u001B[39mcreate_study(direction\u001B[38;5;241m=\u001B[39m\u001B[38;5;124m\"\u001B[39m\u001B[38;5;124mmaximize\u001B[39m\u001B[38;5;124m\"\u001B[39m)\n\u001B[1;32m---> 16\u001B[0m \u001B[43mstudy\u001B[49m\u001B[38;5;241;43m.\u001B[39;49m\u001B[43moptimize\u001B[49m\u001B[43m(\u001B[49m\u001B[43mobjective\u001B[49m\u001B[43m,\u001B[49m\u001B[43m \u001B[49m\u001B[43mn_trials\u001B[49m\u001B[38;5;241;43m=\u001B[39;49m\u001B[38;5;241;43m5\u001B[39;49m\u001B[43m)\u001B[49m\n",
      "File \u001B[1;32m~\\AppData\\Local\\Programs\\Python\\Python39\\lib\\site-packages\\optuna\\study\\study.py:400\u001B[0m, in \u001B[0;36mStudy.optimize\u001B[1;34m(self, func, n_trials, timeout, n_jobs, catch, callbacks, gc_after_trial, show_progress_bar)\u001B[0m\n\u001B[0;32m    392\u001B[0m \u001B[38;5;28;01mif\u001B[39;00m n_jobs \u001B[38;5;241m!=\u001B[39m \u001B[38;5;241m1\u001B[39m:\n\u001B[0;32m    393\u001B[0m     warnings\u001B[38;5;241m.\u001B[39mwarn(\n\u001B[0;32m    394\u001B[0m         \u001B[38;5;124m\"\u001B[39m\u001B[38;5;124m`n_jobs` argument has been deprecated in v2.7.0. \u001B[39m\u001B[38;5;124m\"\u001B[39m\n\u001B[0;32m    395\u001B[0m         \u001B[38;5;124m\"\u001B[39m\u001B[38;5;124mThis feature will be removed in v4.0.0. \u001B[39m\u001B[38;5;124m\"\u001B[39m\n\u001B[0;32m    396\u001B[0m         \u001B[38;5;124m\"\u001B[39m\u001B[38;5;124mSee https://github.com/optuna/optuna/releases/tag/v2.7.0.\u001B[39m\u001B[38;5;124m\"\u001B[39m,\n\u001B[0;32m    397\u001B[0m         \u001B[38;5;167;01mFutureWarning\u001B[39;00m,\n\u001B[0;32m    398\u001B[0m     )\n\u001B[1;32m--> 400\u001B[0m \u001B[43m_optimize\u001B[49m\u001B[43m(\u001B[49m\n\u001B[0;32m    401\u001B[0m \u001B[43m    \u001B[49m\u001B[43mstudy\u001B[49m\u001B[38;5;241;43m=\u001B[39;49m\u001B[38;5;28;43mself\u001B[39;49m\u001B[43m,\u001B[49m\n\u001B[0;32m    402\u001B[0m \u001B[43m    \u001B[49m\u001B[43mfunc\u001B[49m\u001B[38;5;241;43m=\u001B[39;49m\u001B[43mfunc\u001B[49m\u001B[43m,\u001B[49m\n\u001B[0;32m    403\u001B[0m \u001B[43m    \u001B[49m\u001B[43mn_trials\u001B[49m\u001B[38;5;241;43m=\u001B[39;49m\u001B[43mn_trials\u001B[49m\u001B[43m,\u001B[49m\n\u001B[0;32m    404\u001B[0m \u001B[43m    \u001B[49m\u001B[43mtimeout\u001B[49m\u001B[38;5;241;43m=\u001B[39;49m\u001B[43mtimeout\u001B[49m\u001B[43m,\u001B[49m\n\u001B[0;32m    405\u001B[0m \u001B[43m    \u001B[49m\u001B[43mn_jobs\u001B[49m\u001B[38;5;241;43m=\u001B[39;49m\u001B[43mn_jobs\u001B[49m\u001B[43m,\u001B[49m\n\u001B[0;32m    406\u001B[0m \u001B[43m    \u001B[49m\u001B[43mcatch\u001B[49m\u001B[38;5;241;43m=\u001B[39;49m\u001B[43mcatch\u001B[49m\u001B[43m,\u001B[49m\n\u001B[0;32m    407\u001B[0m \u001B[43m    \u001B[49m\u001B[43mcallbacks\u001B[49m\u001B[38;5;241;43m=\u001B[39;49m\u001B[43mcallbacks\u001B[49m\u001B[43m,\u001B[49m\n\u001B[0;32m    408\u001B[0m \u001B[43m    \u001B[49m\u001B[43mgc_after_trial\u001B[49m\u001B[38;5;241;43m=\u001B[39;49m\u001B[43mgc_after_trial\u001B[49m\u001B[43m,\u001B[49m\n\u001B[0;32m    409\u001B[0m \u001B[43m    \u001B[49m\u001B[43mshow_progress_bar\u001B[49m\u001B[38;5;241;43m=\u001B[39;49m\u001B[43mshow_progress_bar\u001B[49m\u001B[43m,\u001B[49m\n\u001B[0;32m    410\u001B[0m \u001B[43m\u001B[49m\u001B[43m)\u001B[49m\n",
      "File \u001B[1;32m~\\AppData\\Local\\Programs\\Python\\Python39\\lib\\site-packages\\optuna\\study\\_optimize.py:66\u001B[0m, in \u001B[0;36m_optimize\u001B[1;34m(study, func, n_trials, timeout, n_jobs, catch, callbacks, gc_after_trial, show_progress_bar)\u001B[0m\n\u001B[0;32m     64\u001B[0m \u001B[38;5;28;01mtry\u001B[39;00m:\n\u001B[0;32m     65\u001B[0m     \u001B[38;5;28;01mif\u001B[39;00m n_jobs \u001B[38;5;241m==\u001B[39m \u001B[38;5;241m1\u001B[39m:\n\u001B[1;32m---> 66\u001B[0m         \u001B[43m_optimize_sequential\u001B[49m\u001B[43m(\u001B[49m\n\u001B[0;32m     67\u001B[0m \u001B[43m            \u001B[49m\u001B[43mstudy\u001B[49m\u001B[43m,\u001B[49m\n\u001B[0;32m     68\u001B[0m \u001B[43m            \u001B[49m\u001B[43mfunc\u001B[49m\u001B[43m,\u001B[49m\n\u001B[0;32m     69\u001B[0m \u001B[43m            \u001B[49m\u001B[43mn_trials\u001B[49m\u001B[43m,\u001B[49m\n\u001B[0;32m     70\u001B[0m \u001B[43m            \u001B[49m\u001B[43mtimeout\u001B[49m\u001B[43m,\u001B[49m\n\u001B[0;32m     71\u001B[0m \u001B[43m            \u001B[49m\u001B[43mcatch\u001B[49m\u001B[43m,\u001B[49m\n\u001B[0;32m     72\u001B[0m \u001B[43m            \u001B[49m\u001B[43mcallbacks\u001B[49m\u001B[43m,\u001B[49m\n\u001B[0;32m     73\u001B[0m \u001B[43m            \u001B[49m\u001B[43mgc_after_trial\u001B[49m\u001B[43m,\u001B[49m\n\u001B[0;32m     74\u001B[0m \u001B[43m            \u001B[49m\u001B[43mreseed_sampler_rng\u001B[49m\u001B[38;5;241;43m=\u001B[39;49m\u001B[38;5;28;43;01mFalse\u001B[39;49;00m\u001B[43m,\u001B[49m\n\u001B[0;32m     75\u001B[0m \u001B[43m            \u001B[49m\u001B[43mtime_start\u001B[49m\u001B[38;5;241;43m=\u001B[39;49m\u001B[38;5;28;43;01mNone\u001B[39;49;00m\u001B[43m,\u001B[49m\n\u001B[0;32m     76\u001B[0m \u001B[43m            \u001B[49m\u001B[43mprogress_bar\u001B[49m\u001B[38;5;241;43m=\u001B[39;49m\u001B[43mprogress_bar\u001B[49m\u001B[43m,\u001B[49m\n\u001B[0;32m     77\u001B[0m \u001B[43m        \u001B[49m\u001B[43m)\u001B[49m\n\u001B[0;32m     78\u001B[0m     \u001B[38;5;28;01melse\u001B[39;00m:\n\u001B[0;32m     79\u001B[0m         \u001B[38;5;28;01mif\u001B[39;00m show_progress_bar:\n",
      "File \u001B[1;32m~\\AppData\\Local\\Programs\\Python\\Python39\\lib\\site-packages\\optuna\\study\\_optimize.py:163\u001B[0m, in \u001B[0;36m_optimize_sequential\u001B[1;34m(study, func, n_trials, timeout, catch, callbacks, gc_after_trial, reseed_sampler_rng, time_start, progress_bar)\u001B[0m\n\u001B[0;32m    160\u001B[0m         \u001B[38;5;28;01mbreak\u001B[39;00m\n\u001B[0;32m    162\u001B[0m \u001B[38;5;28;01mtry\u001B[39;00m:\n\u001B[1;32m--> 163\u001B[0m     trial \u001B[38;5;241m=\u001B[39m \u001B[43m_run_trial\u001B[49m\u001B[43m(\u001B[49m\u001B[43mstudy\u001B[49m\u001B[43m,\u001B[49m\u001B[43m \u001B[49m\u001B[43mfunc\u001B[49m\u001B[43m,\u001B[49m\u001B[43m \u001B[49m\u001B[43mcatch\u001B[49m\u001B[43m)\u001B[49m\n\u001B[0;32m    164\u001B[0m \u001B[38;5;28;01mexcept\u001B[39;00m \u001B[38;5;167;01mException\u001B[39;00m:\n\u001B[0;32m    165\u001B[0m     \u001B[38;5;28;01mraise\u001B[39;00m\n",
      "File \u001B[1;32m~\\AppData\\Local\\Programs\\Python\\Python39\\lib\\site-packages\\optuna\\study\\_optimize.py:213\u001B[0m, in \u001B[0;36m_run_trial\u001B[1;34m(study, func, catch)\u001B[0m\n\u001B[0;32m    210\u001B[0m     thread\u001B[38;5;241m.\u001B[39mstart()\n\u001B[0;32m    212\u001B[0m \u001B[38;5;28;01mtry\u001B[39;00m:\n\u001B[1;32m--> 213\u001B[0m     value_or_values \u001B[38;5;241m=\u001B[39m \u001B[43mfunc\u001B[49m\u001B[43m(\u001B[49m\u001B[43mtrial\u001B[49m\u001B[43m)\u001B[49m\n\u001B[0;32m    214\u001B[0m \u001B[38;5;28;01mexcept\u001B[39;00m exceptions\u001B[38;5;241m.\u001B[39mTrialPruned \u001B[38;5;28;01mas\u001B[39;00m e:\n\u001B[0;32m    215\u001B[0m     \u001B[38;5;66;03m# TODO(mamu): Handle multi-objective cases.\u001B[39;00m\n\u001B[0;32m    216\u001B[0m     state \u001B[38;5;241m=\u001B[39m TrialState\u001B[38;5;241m.\u001B[39mPRUNED\n",
      "Input \u001B[1;32mIn [18]\u001B[0m, in \u001B[0;36mobjective\u001B[1;34m(trial)\u001B[0m\n\u001B[0;32m      6\u001B[0m momentum \u001B[38;5;241m=\u001B[39m trial\u001B[38;5;241m.\u001B[39msuggest_float(\u001B[38;5;124m\"\u001B[39m\u001B[38;5;124mmomentum\u001B[39m\u001B[38;5;124m\"\u001B[39m, \u001B[38;5;241m0.1\u001B[39m, \u001B[38;5;241m0.9\u001B[39m)\n\u001B[0;32m      8\u001B[0m hyperCNN \u001B[38;5;241m=\u001B[39m hyperparameter_CNN()\n\u001B[1;32m---> 11\u001B[0m \u001B[38;5;28;01mreturn\u001B[39;00m \u001B[43mhyperCNN\u001B[49m\u001B[38;5;241;43m.\u001B[39;49m\u001B[43mrun\u001B[49m\u001B[43m(\u001B[49m\u001B[43mlr\u001B[49m\u001B[43m,\u001B[49m\u001B[43m \u001B[49m\u001B[43mmomentum\u001B[49m\u001B[43m,\u001B[49m\u001B[43m \u001B[49m\u001B[43mtrain_loader\u001B[49m\u001B[43m,\u001B[49m\u001B[43m \u001B[49m\u001B[43mtrain_loader\u001B[49m\u001B[43m,\u001B[49m\u001B[43m \u001B[49m\u001B[43mepochs\u001B[49m\u001B[38;5;241;43m=\u001B[39;49m\u001B[38;5;241;43m10\u001B[39;49m\u001B[43m)\u001B[49m\n",
      "File \u001B[1;32m~\\PycharmProjects\\BACHELOR-ITU-2022\\code\\models\\kfoldCNN\\hyperparameter.py:67\u001B[0m, in \u001B[0;36mhyperparameter_CNN.run\u001B[1;34m(self, lr, momentum, val_loader, train_loader, epochs)\u001B[0m\n\u001B[0;32m     65\u001B[0m \u001B[38;5;28;01mdef\u001B[39;00m \u001B[38;5;21mrun\u001B[39m(\u001B[38;5;28mself\u001B[39m, lr, momentum, val_loader, train_loader, epochs):\n\u001B[1;32m---> 67\u001B[0m     \u001B[38;5;28;43mself\u001B[39;49m\u001B[38;5;241;43m.\u001B[39;49m\u001B[43mtrain\u001B[49m\u001B[43m(\u001B[49m\u001B[43mlr\u001B[49m\u001B[43m,\u001B[49m\u001B[43m \u001B[49m\u001B[43mmomentum\u001B[49m\u001B[43m,\u001B[49m\u001B[43m \u001B[49m\u001B[43mtrain_loader\u001B[49m\u001B[43m,\u001B[49m\u001B[43m \u001B[49m\u001B[43mepochs\u001B[49m\u001B[43m)\u001B[49m\n\u001B[0;32m     68\u001B[0m     f1 \u001B[38;5;241m=\u001B[39m \u001B[38;5;28mself\u001B[39m\u001B[38;5;241m.\u001B[39mcheck_accuracy(val_loader, \u001B[38;5;28mself\u001B[39m\u001B[38;5;241m.\u001B[39mmodel)\n\u001B[0;32m     70\u001B[0m     \u001B[38;5;28;01mreturn\u001B[39;00m f1\n",
      "File \u001B[1;32m~\\PycharmProjects\\BACHELOR-ITU-2022\\code\\models\\kfoldCNN\\hyperparameter.py:57\u001B[0m, in \u001B[0;36mhyperparameter_CNN.train\u001B[1;34m(self, lr, momentum, train_loader, epochs)\u001B[0m\n\u001B[0;32m     55\u001B[0m loss \u001B[38;5;241m=\u001B[39m criterion(outputs, labels)\n\u001B[0;32m     56\u001B[0m loss\u001B[38;5;241m.\u001B[39mbackward()\n\u001B[1;32m---> 57\u001B[0m \u001B[43moptimizer\u001B[49m\u001B[38;5;241;43m.\u001B[39;49m\u001B[43mstep\u001B[49m\u001B[43m(\u001B[49m\u001B[43m)\u001B[49m\n\u001B[0;32m     59\u001B[0m running_loss \u001B[38;5;241m+\u001B[39m\u001B[38;5;241m=\u001B[39m loss\u001B[38;5;241m.\u001B[39mitem()\n",
      "File \u001B[1;32m~\\AppData\\Local\\Programs\\Python\\Python39\\lib\\site-packages\\torch\\optim\\optimizer.py:88\u001B[0m, in \u001B[0;36mOptimizer._hook_for_profile.<locals>.profile_hook_step.<locals>.wrapper\u001B[1;34m(*args, **kwargs)\u001B[0m\n\u001B[0;32m     86\u001B[0m profile_name \u001B[38;5;241m=\u001B[39m \u001B[38;5;124m\"\u001B[39m\u001B[38;5;124mOptimizer.step#\u001B[39m\u001B[38;5;132;01m{}\u001B[39;00m\u001B[38;5;124m.step\u001B[39m\u001B[38;5;124m\"\u001B[39m\u001B[38;5;241m.\u001B[39mformat(obj\u001B[38;5;241m.\u001B[39m\u001B[38;5;18m__class__\u001B[39m\u001B[38;5;241m.\u001B[39m\u001B[38;5;18m__name__\u001B[39m)\n\u001B[0;32m     87\u001B[0m \u001B[38;5;28;01mwith\u001B[39;00m torch\u001B[38;5;241m.\u001B[39mautograd\u001B[38;5;241m.\u001B[39mprofiler\u001B[38;5;241m.\u001B[39mrecord_function(profile_name):\n\u001B[1;32m---> 88\u001B[0m     \u001B[38;5;28;01mreturn\u001B[39;00m func(\u001B[38;5;241m*\u001B[39margs, \u001B[38;5;241m*\u001B[39m\u001B[38;5;241m*\u001B[39mkwargs)\n",
      "File \u001B[1;32m~\\AppData\\Local\\Programs\\Python\\Python39\\lib\\site-packages\\torch\\autograd\\grad_mode.py:27\u001B[0m, in \u001B[0;36m_DecoratorContextManager.__call__.<locals>.decorate_context\u001B[1;34m(*args, **kwargs)\u001B[0m\n\u001B[0;32m     24\u001B[0m \u001B[38;5;129m@functools\u001B[39m\u001B[38;5;241m.\u001B[39mwraps(func)\n\u001B[0;32m     25\u001B[0m \u001B[38;5;28;01mdef\u001B[39;00m \u001B[38;5;21mdecorate_context\u001B[39m(\u001B[38;5;241m*\u001B[39margs, \u001B[38;5;241m*\u001B[39m\u001B[38;5;241m*\u001B[39mkwargs):\n\u001B[0;32m     26\u001B[0m     \u001B[38;5;28;01mwith\u001B[39;00m \u001B[38;5;28mself\u001B[39m\u001B[38;5;241m.\u001B[39mclone():\n\u001B[1;32m---> 27\u001B[0m         \u001B[38;5;28;01mreturn\u001B[39;00m func(\u001B[38;5;241m*\u001B[39margs, \u001B[38;5;241m*\u001B[39m\u001B[38;5;241m*\u001B[39mkwargs)\n",
      "File \u001B[1;32m~\\AppData\\Local\\Programs\\Python\\Python39\\lib\\site-packages\\torch\\optim\\sgd.py:144\u001B[0m, in \u001B[0;36mSGD.step\u001B[1;34m(self, closure)\u001B[0m\n\u001B[0;32m    141\u001B[0m         \u001B[38;5;28;01melse\u001B[39;00m:\n\u001B[0;32m    142\u001B[0m             momentum_buffer_list\u001B[38;5;241m.\u001B[39mappend(state[\u001B[38;5;124m'\u001B[39m\u001B[38;5;124mmomentum_buffer\u001B[39m\u001B[38;5;124m'\u001B[39m])\n\u001B[1;32m--> 144\u001B[0m \u001B[43mF\u001B[49m\u001B[38;5;241;43m.\u001B[39;49m\u001B[43msgd\u001B[49m\u001B[43m(\u001B[49m\u001B[43mparams_with_grad\u001B[49m\u001B[43m,\u001B[49m\n\u001B[0;32m    145\u001B[0m \u001B[43m      \u001B[49m\u001B[43md_p_list\u001B[49m\u001B[43m,\u001B[49m\n\u001B[0;32m    146\u001B[0m \u001B[43m      \u001B[49m\u001B[43mmomentum_buffer_list\u001B[49m\u001B[43m,\u001B[49m\n\u001B[0;32m    147\u001B[0m \u001B[43m      \u001B[49m\u001B[43mweight_decay\u001B[49m\u001B[38;5;241;43m=\u001B[39;49m\u001B[43mweight_decay\u001B[49m\u001B[43m,\u001B[49m\n\u001B[0;32m    148\u001B[0m \u001B[43m      \u001B[49m\u001B[43mmomentum\u001B[49m\u001B[38;5;241;43m=\u001B[39;49m\u001B[43mmomentum\u001B[49m\u001B[43m,\u001B[49m\n\u001B[0;32m    149\u001B[0m \u001B[43m      \u001B[49m\u001B[43mlr\u001B[49m\u001B[38;5;241;43m=\u001B[39;49m\u001B[43mlr\u001B[49m\u001B[43m,\u001B[49m\n\u001B[0;32m    150\u001B[0m \u001B[43m      \u001B[49m\u001B[43mdampening\u001B[49m\u001B[38;5;241;43m=\u001B[39;49m\u001B[43mdampening\u001B[49m\u001B[43m,\u001B[49m\n\u001B[0;32m    151\u001B[0m \u001B[43m      \u001B[49m\u001B[43mnesterov\u001B[49m\u001B[38;5;241;43m=\u001B[39;49m\u001B[43mnesterov\u001B[49m\u001B[43m,\u001B[49m\n\u001B[0;32m    152\u001B[0m \u001B[43m      \u001B[49m\u001B[43mmaximize\u001B[49m\u001B[38;5;241;43m=\u001B[39;49m\u001B[43mmaximize\u001B[49m\u001B[43m,\u001B[49m\u001B[43m)\u001B[49m\n\u001B[0;32m    154\u001B[0m \u001B[38;5;66;03m# update momentum_buffers in state\u001B[39;00m\n\u001B[0;32m    155\u001B[0m \u001B[38;5;28;01mfor\u001B[39;00m p, momentum_buffer \u001B[38;5;129;01min\u001B[39;00m \u001B[38;5;28mzip\u001B[39m(params_with_grad, momentum_buffer_list):\n",
      "File \u001B[1;32m~\\AppData\\Local\\Programs\\Python\\Python39\\lib\\site-packages\\torch\\optim\\_functional.py:186\u001B[0m, in \u001B[0;36msgd\u001B[1;34m(params, d_p_list, momentum_buffer_list, weight_decay, momentum, lr, dampening, nesterov, maximize)\u001B[0m\n\u001B[0;32m    184\u001B[0m     momentum_buffer_list[i] \u001B[38;5;241m=\u001B[39m buf\n\u001B[0;32m    185\u001B[0m \u001B[38;5;28;01melse\u001B[39;00m:\n\u001B[1;32m--> 186\u001B[0m     \u001B[43mbuf\u001B[49m\u001B[38;5;241;43m.\u001B[39;49m\u001B[43mmul_\u001B[49m\u001B[43m(\u001B[49m\u001B[43mmomentum\u001B[49m\u001B[43m)\u001B[49m\u001B[38;5;241;43m.\u001B[39;49m\u001B[43madd_\u001B[49m\u001B[43m(\u001B[49m\u001B[43md_p\u001B[49m\u001B[43m,\u001B[49m\u001B[43m \u001B[49m\u001B[43malpha\u001B[49m\u001B[38;5;241;43m=\u001B[39;49m\u001B[38;5;241;43m1\u001B[39;49m\u001B[43m \u001B[49m\u001B[38;5;241;43m-\u001B[39;49m\u001B[43m \u001B[49m\u001B[43mdampening\u001B[49m\u001B[43m)\u001B[49m\n\u001B[0;32m    188\u001B[0m \u001B[38;5;28;01mif\u001B[39;00m nesterov:\n\u001B[0;32m    189\u001B[0m     d_p \u001B[38;5;241m=\u001B[39m d_p\u001B[38;5;241m.\u001B[39madd(buf, alpha\u001B[38;5;241m=\u001B[39mmomentum)\n",
      "\u001B[1;31mKeyboardInterrupt\u001B[0m: "
     ]
    }
   ],
   "source": [
    "import optuna\n",
    "\n",
    "def objective(trial):\n",
    "\n",
    "    lr = trial.suggest_float(\"lr\", 0.01, 0.1)\n",
    "    momentum = trial.suggest_float(\"momentum\", 0.1, 0.9)\n",
    "\n",
    "    hyperCNN = hyperparameter_CNN()\n",
    "\n",
    "\n",
    "    return hyperCNN.run(lr, momentum, validation_loader, train_loader, epochs=10)\n",
    "\n",
    "\n",
    "\n",
    "study = optuna.create_study(direction=\"maximize\")\n",
    "study.optimize(objective, n_trials=5)"
   ],
   "metadata": {
    "collapsed": false,
    "pycharm": {
     "name": "#%%\n"
    }
   }
  },
  {
   "cell_type": "code",
   "execution_count": null,
   "outputs": [],
   "source": [
    "study.best_params"
   ],
   "metadata": {
    "collapsed": false,
    "pycharm": {
     "name": "#%%\n"
    }
   }
  },
  {
   "cell_type": "code",
   "execution_count": 6,
   "outputs": [
    {
     "ename": "NameError",
     "evalue": "name 'y' is not defined",
     "output_type": "error",
     "traceback": [
      "\u001B[1;31m---------------------------------------------------------------------------\u001B[0m",
      "\u001B[1;31mNameError\u001B[0m                                 Traceback (most recent call last)",
      "Input \u001B[1;32mIn [6]\u001B[0m, in \u001B[0;36m<module>\u001B[1;34m\u001B[0m\n\u001B[0;32m      3\u001B[0m o \u001B[38;5;241m=\u001B[39m torch\u001B[38;5;241m.\u001B[39mload(path)\n\u001B[0;32m      6\u001B[0m \u001B[38;5;28;01mfrom\u001B[39;00m \u001B[38;5;21;01msklearn\u001B[39;00m\u001B[38;5;21;01m.\u001B[39;00m\u001B[38;5;21;01mmetrics\u001B[39;00m \u001B[38;5;28;01mimport\u001B[39;00m f1_score, accuracy_score\n\u001B[1;32m----> 7\u001B[0m \u001B[38;5;28mprint\u001B[39m(accuracy_score(\u001B[43my\u001B[49m, preds))\n\u001B[0;32m      8\u001B[0m \u001B[38;5;28mprint\u001B[39m(f1_score(y, preds, average\u001B[38;5;241m=\u001B[39m\u001B[38;5;124m'\u001B[39m\u001B[38;5;124mmacro\u001B[39m\u001B[38;5;124m'\u001B[39m))\n",
      "\u001B[1;31mNameError\u001B[0m: name 'y' is not defined"
     ]
    }
   ],
   "source": [
    "\n",
    "\n",
    "path = r\"C:\\Users\\sofu0\\OneDrive - ITU\\Bachelor\\kfold\\fold0\\batman_model\"\n",
    "\n",
    "o = torch.load(path)\n",
    "\n",
    "\n",
    "from sklearn.metrics import f1_score, accuracy_score\n",
    "print(accuracy_score(y, preds))\n",
    "print(f1_score(y, preds, average='macro'))"
   ],
   "metadata": {
    "collapsed": false,
    "pycharm": {
     "name": "#%%\n"
    }
   }
  },
  {
   "cell_type": "code",
   "execution_count": null,
   "outputs": [],
   "source": [
    "preds, y = check_accuracy(validation_loader, o)"
   ],
   "metadata": {
    "collapsed": false,
    "pycharm": {
     "name": "#%%\n"
    }
   }
  },
  {
   "cell_type": "code",
   "execution_count": 5,
   "outputs": [],
   "source": [
    "def check_accuracy(loader, model):\n",
    "    num_correct = 0\n",
    "    num_samples = 0\n",
    "    model.eval()\n",
    "\n",
    "    pred_list = []\n",
    "    y_list = []\n",
    "    for i,(x, y) in enumerate(loader):\n",
    "\n",
    "\n",
    "        scores = model(x)\n",
    "        _, predictions = scores.max(1)\n",
    "\n",
    "        # print(predictions)\n",
    "        # print(\"---\")\n",
    "        # num_correct += (predictions == y).sum()\n",
    "        # num_samples += predictions.size(0)\n",
    "\n",
    "        pred_list+=predictions.tolist()\n",
    "        y_list+=y.tolist()\n",
    "\n",
    "\n",
    "    return pred_list, y_list\n",
    "\n"
   ],
   "metadata": {
    "collapsed": false,
    "pycharm": {
     "name": "#%%\n"
    }
   }
  },
  {
   "cell_type": "code",
   "execution_count": 8,
   "outputs": [],
   "source": [
    "import json\n",
    "import pandas as pd\n",
    "\n",
    "class json_to_csv:\n",
    "\n",
    "    def __init__(self, path_to_json):\n",
    "        self.path_to_json = path_to_json\n",
    "\n",
    "    def read_json(self):\n",
    "\n",
    "        skeleton_json = open(self.path_to_json)\n",
    "        full_skeleton = json.load(skeleton_json)\n",
    "\n",
    "        return full_skeleton\n",
    "\n",
    "    def make_df(self):\n",
    "\n",
    "        df = pd.DataFrame()\n",
    "\n",
    "        full_skeleton = self.read_json()\n",
    "\n",
    "        for key in full_skeleton.keys():\n",
    "            print(key)\n",
    "\n",
    "            for j in range(len(full_skeleton[key][0])):\n",
    "\n",
    "                data_point = full_skeleton[key][0][j]\n",
    "                label = full_skeleton[key][1][j]\n",
    "\n",
    "                x_values = []\n",
    "                y_values = []\n",
    "\n",
    "                for i in range(0,66,2):\n",
    "\n",
    "                    x_values.append(data_point[i])\n",
    "\n",
    "                for i in range(1,66,2):\n",
    "                    y_values.append(data_point[i])\n",
    "                d = {}\n",
    "                # print(len(frame))\n",
    "\n",
    "                for i in range(33):\n",
    "                    d[str(i)+\"x\"] = [x_values[i]]\n",
    "                    d[str(i) + \"y\"] = [y_values[i]]\n",
    "\n",
    "                d['finals'] = label\n",
    "                names = key.split('_')\n",
    "                d['clipname'] = names[1]\n",
    "                d['videoname'] = names[0]\n",
    "\n",
    "                dframe = pd.DataFrame(data=d)\n",
    "                df = pd.concat([df, dframe])\n",
    "\n",
    "\n",
    "        return df\n",
    "\n",
    "\n",
    "    def df_to_csv(self, path):\n",
    "\n",
    "        df = self.make_df()\n",
    "\n",
    "        df.to_csv(path, index=False)\n",
    "\n",
    "\n",
    "\n",
    "# def main():\n",
    "#\n",
    "#     path_to_new_csv = r'/Users/Morten/Library/CloudStorage/OneDrive-SharedLibraries-ITU/Sofus Sebastian Schou Konglevoll - Bachelor/all_skeleton/skeleton_csv_from_json_v2.csv'\n",
    "#     path = r'/Users/Morten/Library/CloudStorage/OneDrive-SharedLibraries-ITU/Sofus Sebastian Schou Konglevoll - Bachelor/all_skeleton/skeleton_good_padded_videos_v2.json'\n",
    "#\n",
    "#     jm = json_to_csv(path)\n",
    "#     jm.df_to_csv(path_to_new_csv)\n",
    "#\n",
    "# if __name__ == '__main__':\n",
    "#     main()"
   ],
   "metadata": {
    "collapsed": false,
    "pycharm": {
     "name": "#%%\n"
    }
   }
  },
  {
   "cell_type": "code",
   "execution_count": null,
   "outputs": [],
   "source": [],
   "metadata": {
    "collapsed": false,
    "pycharm": {
     "name": "#%%\n"
    }
   }
  },
  {
   "cell_type": "markdown",
   "source": [
    "<h2> Json to pd dataframe"
   ],
   "metadata": {
    "collapsed": false,
    "pycharm": {
     "name": "#%% md\n"
    }
   }
  },
  {
   "cell_type": "code",
   "execution_count": 13,
   "outputs": [],
   "source": [
    "path = r\"C:\\Users\\sofu0\\OneDrive - ITU\\Bachelor\\kfold\\fold0\\sub_folder0\\train.json\"\n",
    "\n",
    "j_t_c = json_to_csv(path)\n",
    "file = j_t_c.read_json()\n",
    "# file\n"
   ],
   "metadata": {
    "collapsed": false,
    "pycharm": {
     "name": "#%%\n"
    }
   }
  },
  {
   "cell_type": "code",
   "execution_count": null,
   "outputs": [],
   "source": [
    "from code."
   ],
   "metadata": {
    "collapsed": false,
    "pycharm": {
     "name": "#%%\n"
    }
   }
  },
  {
   "cell_type": "code",
   "execution_count": 28,
   "outputs": [
    {
     "name": "stdout",
     "output_type": "stream",
     "text": [
      "Video13_24init\n",
      "Video3_21init\n",
      "Video17_video30init\n",
      "Video3_38init\n",
      "Video13_22init\n",
      "Video17_video9init\n",
      "Video2_13init\n",
      "Video3_11init\n",
      "Video5_video7init\n",
      "Video2_6init\n",
      "Video5_video15init\n",
      "Video19_video8init\n",
      "Video3_18init\n",
      "Video3_8init\n",
      "Video3_5init\n",
      "Video3_29init\n",
      "Video3_15init\n",
      "Video2_12init\n",
      "Video17_video16init\n",
      "Video3_13init\n",
      "Video3_7init\n",
      "Video17_video44init\n",
      "Video17_video15init\n",
      "Video17_video57init\n",
      "Video19_video6init\n",
      "Video3_27init\n",
      "Video2_18init\n",
      "Video13_17init\n",
      "Video19_video5init\n",
      "Video3_31init\n",
      "Video17_video52init\n",
      "Video13_11init\n",
      "Video3_44init\n",
      "Video3_34init\n",
      "Video13_20init\n",
      "Video13_2init\n",
      "Video3_20init\n",
      "Video11_Video17init\n",
      "Video3_25init\n",
      "Video11_Video4init\n",
      "Video2_4init\n",
      "Video11_Video3init\n",
      "Video17_video46init\n",
      "Video19_video25init\n",
      "Video17_video13init\n",
      "Video17_video56init\n",
      "Video1_Video1init\n",
      "Video2_20init\n",
      "Video13_6init\n",
      "Video13_4init\n",
      "Video11_Video15init\n",
      "Video3_41init\n",
      "Video5_video8init\n",
      "Video5_video10init\n",
      "Video17_video54init\n",
      "Video13_9init\n",
      "Video17_video45init\n",
      "Video5_video27init\n",
      "Video19_video23init\n",
      "Video2_8init\n",
      "Video17_video7init\n",
      "Video13_25init\n",
      "Video11_Video9init\n",
      "Video5_video2init\n",
      "Video17_video12init\n",
      "Video5_video4init\n",
      "Video11_Video7init\n",
      "Video13_14init\n",
      "Video17_video33init\n",
      "Video17_video26init\n",
      "Video2_21init\n",
      "Video17_video1init\n",
      "Video17_video27init\n",
      "Video13_3init\n",
      "Video17_video25init\n",
      "Video3_10init\n",
      "Video19_video20init\n",
      "Video17_video23init\n",
      "Video17_video31init\n",
      "Video19_video21init\n",
      "Video17_video3init\n",
      "Video3_24init\n",
      "Video17_video17init\n",
      "Video3_36init\n",
      "Video3_1init\n",
      "Video17_video20init\n",
      "Video2_26init\n",
      "Video2_5init\n",
      "Video17_video19init\n",
      "Video17_video40init\n",
      "Video5_video14init\n",
      "Video17_video34init\n",
      "Video19_video28init\n",
      "Video17_video10init\n",
      "Video3_28init\n",
      "Video11_Video13init\n",
      "Video17_video42init\n",
      "Video5_video5init\n",
      "Video3_46init\n",
      "Video1_Video3init\n",
      "Video3_16init\n",
      "Video17_video51init\n",
      "Video2_15init\n",
      "Video11_Video11init\n",
      "Video19_video3init\n",
      "Video3_32init\n",
      "Video5_video17init\n",
      "Video17_video22init\n",
      "Video2_11init\n",
      "Video2_17init\n",
      "Video2_19init\n",
      "Video3_4init\n",
      "Video3_35init\n",
      "Video11_Video12init\n",
      "Video11_Video5init\n",
      "Video17_video2init\n",
      "Video17_video11init\n",
      "Video17_video50init\n",
      "Video17_video4init\n",
      "Video17_video58init\n"
     ]
    }
   ],
   "source": [
    "df = pd.DataFrame()\n",
    "\n",
    "full_skeleton = file\n",
    "\n",
    "for key in full_skeleton.keys():\n",
    "    print(key)\n",
    "\n",
    "    for j in range(len(full_skeleton[key][\"0\"])):\n",
    "\n",
    "        data_point = full_skeleton[key][\"0\"][j]\n",
    "        label = full_skeleton[key][\"1\"][j]\n",
    "\n",
    "        x_values = []\n",
    "        y_values = []\n",
    "\n",
    "        for i in range(0,66,2):\n",
    "\n",
    "            x_values.append(data_point[i])\n",
    "\n",
    "        for i in range(1,66,2):\n",
    "            y_values.append(data_point[i])\n",
    "        d = {}\n",
    "        # print(len(frame))\n",
    "\n",
    "        for i in range(33):\n",
    "            d[str(i)+\"x\"] = [x_values[i]]\n",
    "            d[str(i) + \"y\"] = [y_values[i]]\n",
    "\n",
    "\n",
    "\n",
    "        d['finals'] = label\n",
    "        names = key.split('_')\n",
    "        d['clipname'] = names[1]\n",
    "        d['videoname'] = names[0]\n",
    "\n",
    "        dframe = pd.DataFrame(data=d)\n",
    "\n",
    "\n",
    "        df = pd.concat([df, dframe])"
   ],
   "metadata": {
    "collapsed": false,
    "pycharm": {
     "name": "#%%\n"
    }
   }
  },
  {
   "cell_type": "code",
   "execution_count": 29,
   "outputs": [
    {
     "data": {
      "text/plain": "          0x        0y        1x        1y        2x        2y        3x  \\\n0   0.145944  0.250708  0.147295  0.237779  0.147592  0.237725  0.147778   \n0   0.145913  0.250775  0.147258  0.238657  0.147557  0.238725  0.147731   \n0   0.145978  0.250901  0.147306  0.239264  0.147608  0.239351  0.147774   \n0   0.146541  0.251071  0.147898  0.239650  0.148173  0.239711  0.148302   \n0   0.148302  0.251572  0.149807  0.240138  0.149976  0.240136  0.149976   \n..       ...       ...       ...       ...       ...       ...       ...   \n0   0.941822  0.254413  0.943896  0.244437  0.943711  0.243661  0.943445   \n0   0.947066  0.252649  0.949549  0.242214  0.949328  0.241384  0.949004   \n0   0.949170  0.247392  0.951674  0.236134  0.951565  0.235329  0.951238   \n0   0.952867  0.228613  0.954570  0.216615  0.954371  0.216129  0.953996   \n0   0.957992  0.220912  0.959703  0.210094  0.959543  0.209424  0.959232   \n\n          3y        4x        4y  ...       29y       30x       30y       31x  \\\n0   0.237562  0.144223  0.235823  ...  0.766237  0.088046  0.779052  0.139821   \n0   0.238628  0.144156  0.236229  ...  0.770185  0.086101  0.780397  0.139927   \n0   0.239249  0.144179  0.236647  ...  0.770528  0.085307  0.780606  0.143925   \n0   0.239583  0.144687  0.237029  ...  0.770970  0.085119  0.780746  0.147489   \n0   0.239969  0.146498  0.237607  ...  0.771834  0.084436  0.781385  0.151267   \n..       ...       ...       ...  ...       ...       ...       ...       ...   \n0   0.242963  0.943466  0.244301  ...  0.528580  0.866433  0.504335  0.919497   \n0   0.240622  0.949184  0.242258  ...  0.521851  0.898560  0.535523  0.893930   \n0   0.234375  0.951140  0.236233  ...  0.525534  0.892571  0.527734  0.887051   \n0   0.215802  0.954158  0.216877  ...  0.527036  0.894704  0.521676  0.912552   \n0   0.208916  0.959024  0.210393  ...  0.537048  0.875403  0.540298  0.910324   \n\n         31y       32x       32y   finals     clipname  videoname  \n0   0.787548  0.097372  0.807094     idle       24init    Video13  \n0   0.788098  0.093876  0.808079     idle       24init    Video13  \n0   0.788289  0.092305  0.808426     idle       24init    Video13  \n0   0.788599  0.091943  0.808922     idle       24init    Video13  \n0   0.789255  0.091931  0.809783     idle       24init    Video13  \n..       ...       ...       ...      ...          ...        ...  \n0   0.540043  0.883993  0.525931  landing  video58init    Video17  \n0   0.541222  0.923006  0.549254  landing  video58init    Video17  \n0   0.545428  0.916603  0.541053  landing  video58init    Video17  \n0   0.539288  0.915147  0.532551  landing  video58init    Video17  \n0   0.570838  0.895860  0.568072  landing  video58init    Video17  \n\n[10342 rows x 69 columns]",
      "text/html": "<div>\n<style scoped>\n    .dataframe tbody tr th:only-of-type {\n        vertical-align: middle;\n    }\n\n    .dataframe tbody tr th {\n        vertical-align: top;\n    }\n\n    .dataframe thead th {\n        text-align: right;\n    }\n</style>\n<table border=\"1\" class=\"dataframe\">\n  <thead>\n    <tr style=\"text-align: right;\">\n      <th></th>\n      <th>0x</th>\n      <th>0y</th>\n      <th>1x</th>\n      <th>1y</th>\n      <th>2x</th>\n      <th>2y</th>\n      <th>3x</th>\n      <th>3y</th>\n      <th>4x</th>\n      <th>4y</th>\n      <th>...</th>\n      <th>29y</th>\n      <th>30x</th>\n      <th>30y</th>\n      <th>31x</th>\n      <th>31y</th>\n      <th>32x</th>\n      <th>32y</th>\n      <th>finals</th>\n      <th>clipname</th>\n      <th>videoname</th>\n    </tr>\n  </thead>\n  <tbody>\n    <tr>\n      <th>0</th>\n      <td>0.145944</td>\n      <td>0.250708</td>\n      <td>0.147295</td>\n      <td>0.237779</td>\n      <td>0.147592</td>\n      <td>0.237725</td>\n      <td>0.147778</td>\n      <td>0.237562</td>\n      <td>0.144223</td>\n      <td>0.235823</td>\n      <td>...</td>\n      <td>0.766237</td>\n      <td>0.088046</td>\n      <td>0.779052</td>\n      <td>0.139821</td>\n      <td>0.787548</td>\n      <td>0.097372</td>\n      <td>0.807094</td>\n      <td>idle</td>\n      <td>24init</td>\n      <td>Video13</td>\n    </tr>\n    <tr>\n      <th>0</th>\n      <td>0.145913</td>\n      <td>0.250775</td>\n      <td>0.147258</td>\n      <td>0.238657</td>\n      <td>0.147557</td>\n      <td>0.238725</td>\n      <td>0.147731</td>\n      <td>0.238628</td>\n      <td>0.144156</td>\n      <td>0.236229</td>\n      <td>...</td>\n      <td>0.770185</td>\n      <td>0.086101</td>\n      <td>0.780397</td>\n      <td>0.139927</td>\n      <td>0.788098</td>\n      <td>0.093876</td>\n      <td>0.808079</td>\n      <td>idle</td>\n      <td>24init</td>\n      <td>Video13</td>\n    </tr>\n    <tr>\n      <th>0</th>\n      <td>0.145978</td>\n      <td>0.250901</td>\n      <td>0.147306</td>\n      <td>0.239264</td>\n      <td>0.147608</td>\n      <td>0.239351</td>\n      <td>0.147774</td>\n      <td>0.239249</td>\n      <td>0.144179</td>\n      <td>0.236647</td>\n      <td>...</td>\n      <td>0.770528</td>\n      <td>0.085307</td>\n      <td>0.780606</td>\n      <td>0.143925</td>\n      <td>0.788289</td>\n      <td>0.092305</td>\n      <td>0.808426</td>\n      <td>idle</td>\n      <td>24init</td>\n      <td>Video13</td>\n    </tr>\n    <tr>\n      <th>0</th>\n      <td>0.146541</td>\n      <td>0.251071</td>\n      <td>0.147898</td>\n      <td>0.239650</td>\n      <td>0.148173</td>\n      <td>0.239711</td>\n      <td>0.148302</td>\n      <td>0.239583</td>\n      <td>0.144687</td>\n      <td>0.237029</td>\n      <td>...</td>\n      <td>0.770970</td>\n      <td>0.085119</td>\n      <td>0.780746</td>\n      <td>0.147489</td>\n      <td>0.788599</td>\n      <td>0.091943</td>\n      <td>0.808922</td>\n      <td>idle</td>\n      <td>24init</td>\n      <td>Video13</td>\n    </tr>\n    <tr>\n      <th>0</th>\n      <td>0.148302</td>\n      <td>0.251572</td>\n      <td>0.149807</td>\n      <td>0.240138</td>\n      <td>0.149976</td>\n      <td>0.240136</td>\n      <td>0.149976</td>\n      <td>0.239969</td>\n      <td>0.146498</td>\n      <td>0.237607</td>\n      <td>...</td>\n      <td>0.771834</td>\n      <td>0.084436</td>\n      <td>0.781385</td>\n      <td>0.151267</td>\n      <td>0.789255</td>\n      <td>0.091931</td>\n      <td>0.809783</td>\n      <td>idle</td>\n      <td>24init</td>\n      <td>Video13</td>\n    </tr>\n    <tr>\n      <th>...</th>\n      <td>...</td>\n      <td>...</td>\n      <td>...</td>\n      <td>...</td>\n      <td>...</td>\n      <td>...</td>\n      <td>...</td>\n      <td>...</td>\n      <td>...</td>\n      <td>...</td>\n      <td>...</td>\n      <td>...</td>\n      <td>...</td>\n      <td>...</td>\n      <td>...</td>\n      <td>...</td>\n      <td>...</td>\n      <td>...</td>\n      <td>...</td>\n      <td>...</td>\n      <td>...</td>\n    </tr>\n    <tr>\n      <th>0</th>\n      <td>0.941822</td>\n      <td>0.254413</td>\n      <td>0.943896</td>\n      <td>0.244437</td>\n      <td>0.943711</td>\n      <td>0.243661</td>\n      <td>0.943445</td>\n      <td>0.242963</td>\n      <td>0.943466</td>\n      <td>0.244301</td>\n      <td>...</td>\n      <td>0.528580</td>\n      <td>0.866433</td>\n      <td>0.504335</td>\n      <td>0.919497</td>\n      <td>0.540043</td>\n      <td>0.883993</td>\n      <td>0.525931</td>\n      <td>landing</td>\n      <td>video58init</td>\n      <td>Video17</td>\n    </tr>\n    <tr>\n      <th>0</th>\n      <td>0.947066</td>\n      <td>0.252649</td>\n      <td>0.949549</td>\n      <td>0.242214</td>\n      <td>0.949328</td>\n      <td>0.241384</td>\n      <td>0.949004</td>\n      <td>0.240622</td>\n      <td>0.949184</td>\n      <td>0.242258</td>\n      <td>...</td>\n      <td>0.521851</td>\n      <td>0.898560</td>\n      <td>0.535523</td>\n      <td>0.893930</td>\n      <td>0.541222</td>\n      <td>0.923006</td>\n      <td>0.549254</td>\n      <td>landing</td>\n      <td>video58init</td>\n      <td>Video17</td>\n    </tr>\n    <tr>\n      <th>0</th>\n      <td>0.949170</td>\n      <td>0.247392</td>\n      <td>0.951674</td>\n      <td>0.236134</td>\n      <td>0.951565</td>\n      <td>0.235329</td>\n      <td>0.951238</td>\n      <td>0.234375</td>\n      <td>0.951140</td>\n      <td>0.236233</td>\n      <td>...</td>\n      <td>0.525534</td>\n      <td>0.892571</td>\n      <td>0.527734</td>\n      <td>0.887051</td>\n      <td>0.545428</td>\n      <td>0.916603</td>\n      <td>0.541053</td>\n      <td>landing</td>\n      <td>video58init</td>\n      <td>Video17</td>\n    </tr>\n    <tr>\n      <th>0</th>\n      <td>0.952867</td>\n      <td>0.228613</td>\n      <td>0.954570</td>\n      <td>0.216615</td>\n      <td>0.954371</td>\n      <td>0.216129</td>\n      <td>0.953996</td>\n      <td>0.215802</td>\n      <td>0.954158</td>\n      <td>0.216877</td>\n      <td>...</td>\n      <td>0.527036</td>\n      <td>0.894704</td>\n      <td>0.521676</td>\n      <td>0.912552</td>\n      <td>0.539288</td>\n      <td>0.915147</td>\n      <td>0.532551</td>\n      <td>landing</td>\n      <td>video58init</td>\n      <td>Video17</td>\n    </tr>\n    <tr>\n      <th>0</th>\n      <td>0.957992</td>\n      <td>0.220912</td>\n      <td>0.959703</td>\n      <td>0.210094</td>\n      <td>0.959543</td>\n      <td>0.209424</td>\n      <td>0.959232</td>\n      <td>0.208916</td>\n      <td>0.959024</td>\n      <td>0.210393</td>\n      <td>...</td>\n      <td>0.537048</td>\n      <td>0.875403</td>\n      <td>0.540298</td>\n      <td>0.910324</td>\n      <td>0.570838</td>\n      <td>0.895860</td>\n      <td>0.568072</td>\n      <td>landing</td>\n      <td>video58init</td>\n      <td>Video17</td>\n    </tr>\n  </tbody>\n</table>\n<p>10342 rows × 69 columns</p>\n</div>"
     },
     "execution_count": 29,
     "metadata": {},
     "output_type": "execute_result"
    }
   ],
   "source": [
    "df"
   ],
   "metadata": {
    "collapsed": false,
    "pycharm": {
     "name": "#%%\n"
    }
   }
  }
 ],
 "metadata": {
  "kernelspec": {
   "display_name": "Python 3",
   "language": "python",
   "name": "python3"
  },
  "language_info": {
   "codemirror_mode": {
    "name": "ipython",
    "version": 2
   },
   "file_extension": ".py",
   "mimetype": "text/x-python",
   "name": "python",
   "nbconvert_exporter": "python",
   "pygments_lexer": "ipython2",
   "version": "2.7.6"
  }
 },
 "nbformat": 4,
 "nbformat_minor": 0
}